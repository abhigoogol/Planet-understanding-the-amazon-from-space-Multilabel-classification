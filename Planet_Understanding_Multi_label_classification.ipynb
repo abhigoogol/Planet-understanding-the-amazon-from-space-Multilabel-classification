{
  "nbformat": 4,
  "nbformat_minor": 0,
  "metadata": {
    "colab": {
      "name": "Planet: Multi-label classification.ipynb",
      "version": "0.3.2",
      "provenance": [],
      "collapsed_sections": [
        "wr6StYO5NWzB",
        "-qZ8eS8HPa6z"
      ]
    },
    "kernelspec": {
      "name": "python3",
      "display_name": "Python 3"
    },
    "accelerator": "GPU"
  },
  "cells": [
    {
      "cell_type": "markdown",
      "metadata": {
        "id": "view-in-github",
        "colab_type": "text"
      },
      "source": [
        "[View in Colaboratory](https://colab.research.google.com/github/abhigoogol/Planet-understanding-the-amazon-from-space-Multilabel-classification/blob/master/Planet_Understanding_Multi_label_classification.ipynb)"
      ]
    },
    {
      "metadata": {
        "id": "wr6StYO5NWzB",
        "colab_type": "text"
      },
      "cell_type": "markdown",
      "source": [
        "# Installation"
      ]
    },
    {
      "metadata": {
        "id": "thEf4l5AvOD4",
        "colab_type": "code",
        "colab": {
          "base_uri": "https://localhost:8080/",
          "height": 2903
        },
        "outputId": "83435c6c-12f0-4891-cc4f-5ab389a21baa"
      },
      "cell_type": "code",
      "source": [
        "!apt update && apt install -y libsm6 libxext6\n",
        "!pip3 install http://download.pytorch.org/whl/cu80/torch-0.3.0.post4-cp36-cp36m-linux_x86_64.whl \n",
        "!pip install opencv-python\n",
        "!pip install fastai\n",
        "!pip3 install torchvision"
      ],
      "execution_count": 1,
      "outputs": [
        {
          "output_type": "stream",
          "text": [
            "Get:1 http://security.ubuntu.com/ubuntu artful-security InRelease [83.2 kB]\n",
            "Hit:2 http://archive.ubuntu.com/ubuntu artful InRelease\n",
            "Get:3 http://archive.ubuntu.com/ubuntu artful-updates InRelease [88.7 kB]\n",
            "Get:4 http://archive.ubuntu.com/ubuntu artful-backports InRelease [74.6 kB]\n",
            "Get:5 http://security.ubuntu.com/ubuntu artful-security/universe Sources [21.0 kB]\n",
            "Get:6 http://security.ubuntu.com/ubuntu artful-security/main amd64 Packages [235 kB]\n",
            "Get:7 http://archive.ubuntu.com/ubuntu artful-updates/universe Sources [44.3 kB]\n",
            "Get:8 http://archive.ubuntu.com/ubuntu artful-updates/restricted amd64 Packages [2,933 B]\n",
            "Get:9 http://archive.ubuntu.com/ubuntu artful-updates/universe amd64 Packages [148 kB]\n",
            "Get:10 http://security.ubuntu.com/ubuntu artful-security/multiverse amd64 Packages [1,815 B]\n",
            "Get:11 http://security.ubuntu.com/ubuntu artful-security/restricted amd64 Packages [2,933 B]\n",
            "Get:12 http://security.ubuntu.com/ubuntu artful-security/universe amd64 Packages [84.1 kB]\n",
            "Get:13 http://archive.ubuntu.com/ubuntu artful-updates/main amd64 Packages [362 kB]\n",
            "Get:14 http://archive.ubuntu.com/ubuntu artful-updates/multiverse amd64 Packages [4,369 B]\n",
            "Fetched 1,153 kB in 1s (631 kB/s)\n",
            "Reading package lists... Done\n",
            "Building dependency tree       \n",
            "Reading state information... Done\n",
            "23 packages can be upgraded. Run 'apt list --upgradable' to see them.\n",
            "Reading package lists... Done\n",
            "Building dependency tree       \n",
            "Reading state information... Done\n",
            "libsm6 is already the newest version (2:1.2.2-1).\n",
            "libxext6 is already the newest version (2:1.3.3-1).\n",
            "0 upgraded, 0 newly installed, 0 to remove and 23 not upgraded.\n",
            "Collecting torch==0.3.0.post4 from http://download.pytorch.org/whl/cu80/torch-0.3.0.post4-cp36-cp36m-linux_x86_64.whl\n",
            "\u001b[?25l  Downloading http://download.pytorch.org/whl/cu80/torch-0.3.0.post4-cp36-cp36m-linux_x86_64.whl (592.3MB)\n",
            "\u001b[K    13% |████▎                           | 79.2MB 31.9MB/s eta 0:00:17"
          ],
          "name": "stdout"
        },
        {
          "output_type": "stream",
          "text": [
            "\u001b[K    100% |████████████████████████████████| 592.3MB 46.7MB/s \n",
            "\u001b[?25hRequirement already satisfied: pyyaml in /usr/local/lib/python3.6/dist-packages (from torch==0.3.0.post4) (3.12)\n",
            "Requirement already satisfied: numpy in /usr/local/lib/python3.6/dist-packages (from torch==0.3.0.post4) (1.14.3)\n",
            "Installing collected packages: torch\n",
            "Successfully installed torch-0.3.0.post4\n",
            "Requirement already satisfied: opencv-python in /usr/local/lib/python3.6/dist-packages (3.4.1.15)\n",
            "Requirement already satisfied: numpy>=1.11.3 in /usr/local/lib/python3.6/dist-packages (from opencv-python) (1.14.3)\n",
            "Collecting fastai\n",
            "\u001b[?25l  Downloading https://files.pythonhosted.org/packages/50/6d/9d0d6e17a78b0598d5e8c49a0d03ffc7ff265ae62eca3e2345fab14edb9b/fastai-0.7.0-py3-none-any.whl (112kB)\n",
            "\u001b[K    100% |████████████████████████████████| 122kB 5.7MB/s \n",
            "\u001b[?25hCollecting torchtext (from fastai)\n",
            "\u001b[?25l  Downloading https://files.pythonhosted.org/packages/78/90/474d5944d43001a6e72b9aaed5c3e4f77516fbef2317002da2096fd8b5ea/torchtext-0.2.3.tar.gz (42kB)\n",
            "\u001b[K    100% |████████████████████████████████| 51kB 13.6MB/s \n",
            "\u001b[?25hRequirement already satisfied: decorator in /usr/local/lib/python3.6/dist-packages (from fastai) (4.3.0)\n",
            "Requirement already satisfied: jsonschema in /usr/local/lib/python3.6/dist-packages (from fastai) (2.6.0)\n",
            "Requirement already satisfied: matplotlib in /usr/local/lib/python3.6/dist-packages (from fastai) (2.1.2)\n",
            "Requirement already satisfied: tornado in /usr/local/lib/python3.6/dist-packages (from fastai) (4.5.3)\n",
            "Collecting ipywidgets (from fastai)\n",
            "\u001b[?25l  Downloading https://files.pythonhosted.org/packages/7d/24/fabc09ad81c6071159a4d12d5bfbddcbea69bd9e3b16c3250ef300c0285f/ipywidgets-7.2.1-py2.py3-none-any.whl (106kB)\n",
            "\u001b[K    100% |████████████████████████████████| 112kB 6.2MB/s \n",
            "\u001b[?25hCollecting bcolz (from fastai)\n",
            "\u001b[?25l  Downloading https://files.pythonhosted.org/packages/5c/4e/23942de9d5c0fb16f10335fa83e52b431bcb8c0d4a8419c9ac206268c279/bcolz-1.2.1.tar.gz (1.5MB)\n",
            "\u001b[K    100% |████████████████████████████████| 1.5MB 10.5MB/s \n",
            "\u001b[?25hCollecting widgetsnbextension (from fastai)\n",
            "\u001b[?25l  Downloading https://files.pythonhosted.org/packages/ff/fa/64acc09fc845a6b2dc0724d6f3f81e829b778ed5e9a7559567b4f19a3f4b/widgetsnbextension-3.2.1-py2.py3-none-any.whl (2.2MB)\n",
            "\u001b[K    100% |████████████████████████████████| 2.2MB 10.7MB/s \n",
            "\u001b[?25hRequirement already satisfied: PyYAML in /usr/local/lib/python3.6/dist-packages (from fastai) (3.12)\n",
            "Requirement already satisfied: Pillow in /usr/local/lib/python3.6/dist-packages (from fastai) (4.0.0)\n",
            "Requirement already satisfied: ptyprocess in /usr/local/lib/python3.6/dist-packages (from fastai) (0.5.2)\n",
            "Collecting pandas-summary (from fastai)\n",
            "  Downloading https://files.pythonhosted.org/packages/3d/a7/0364272be0c6561c45d67edec8a7bf0532d56b830438168f9078f7720f63/pandas-summary-0.0.41.tar.gz\n",
            "Requirement already satisfied: pickleshare in /usr/local/lib/python3.6/dist-packages (from fastai) (0.7.4)\n",
            "Requirement already satisfied: certifi in /usr/local/lib/python3.6/dist-packages (from fastai) (2018.4.16)\n",
            "Collecting sklearn-pandas (from fastai)\n",
            "  Downloading https://files.pythonhosted.org/packages/c5/9e/42d7bcddb09a3ff52d0c60c810ba5d0fded28abbe320c85bbf7368192956/sklearn_pandas-1.6.0-py2.py3-none-any.whl\n",
            "Collecting torchvision (from fastai)\n",
            "\u001b[?25l  Downloading https://files.pythonhosted.org/packages/ca/0d/f00b2885711e08bd71242ebe7b96561e6f6d01fdb4b9dcf4d37e2e13c5e1/torchvision-0.2.1-py2.py3-none-any.whl (54kB)\n",
            "\u001b[K    100% |████████████████████████████████| 61kB 16.4MB/s \n",
            "\u001b[?25hRequirement already satisfied: pyzmq in /usr/local/lib/python3.6/dist-packages (from fastai) (16.0.4)\n",
            "Requirement already satisfied: ipython-genutils in /usr/local/lib/python3.6/dist-packages (from fastai) (0.2.0)\n",
            "Requirement already satisfied: python-dateutil in /usr/local/lib/python3.6/dist-packages (from fastai) (2.5.3)\n",
            "Requirement already satisfied: ipykernel in /usr/local/lib/python3.6/dist-packages (from fastai) (4.6.1)\n",
            "Requirement already satisfied: numpy in /usr/local/lib/python3.6/dist-packages (from fastai) (1.14.3)\n",
            "Collecting isoweek (from fastai)\n",
            "  Downloading https://files.pythonhosted.org/packages/c2/d4/fe7e2637975c476734fcbf53776e650a29680194eb0dd21dbdc020ca92de/isoweek-1.3.3-py2.py3-none-any.whl\n",
            "Collecting jupyter (from fastai)\n",
            "  Downloading https://files.pythonhosted.org/packages/83/df/0f5dd132200728a86190397e1ea87cd76244e42d39ec5e88efd25b2abd7e/jupyter-1.0.0-py2.py3-none-any.whl\n"
          ],
          "name": "stdout"
        },
        {
          "output_type": "stream",
          "text": [
            "Requirement already satisfied: entrypoints in /usr/local/lib/python3.6/dist-packages (from fastai) (0.2.3)\r\n",
            "Requirement already satisfied: Pygments in /usr/local/lib/python3.6/dist-packages (from fastai) (2.1.3)\r\n",
            "Requirement already satisfied: pytz in /usr/local/lib/python3.6/dist-packages (from fastai) (2018.4)\r\n",
            "Requirement already satisfied: cycler in /usr/local/lib/python3.6/dist-packages (from fastai) (0.10.0)\r\n",
            "Requirement already satisfied: ipython in /usr/local/lib/python3.6/dist-packages (from fastai) (5.5.0)\n",
            "Requirement already satisfied: webencodings in /usr/local/lib/python3.6/dist-packages (from fastai) (0.5.1)\n",
            "Requirement already satisfied: bleach in /usr/local/lib/python3.6/dist-packages (from fastai) (1.5.0)\n",
            "Collecting plotnine (from fastai)\n",
            "\u001b[?25l  Downloading https://files.pythonhosted.org/packages/3a/68/cf39dfde4e9fd886703621e3393cd8103cb48d5ecc95b8f048ec148e53a6/plotnine-0.3.0-py2.py3-none-any.whl (3.4MB)\n",
            "\u001b[K    100% |████████████████████████████████| 3.4MB 11.2MB/s \n",
            "\u001b[?25hRequirement already satisfied: pandas in /usr/local/lib/python3.6/dist-packages (from fastai) (0.22.0)\n",
            "Collecting jedi (from fastai)\n",
            "\u001b[?25l  Downloading https://files.pythonhosted.org/packages/e7/42/074192a165622e645ed4aeade63e76e56b3496a044569b3c6cae3a918352/jedi-0.12.0-py2.py3-none-any.whl (172kB)\n",
            "\u001b[K    100% |████████████████████████████████| 174kB 33.3MB/s \n",
            "\u001b[?25hRequirement already satisfied: Jinja2 in /usr/local/lib/python3.6/dist-packages (from fastai) (2.10)\n",
            "Requirement already satisfied: opencv-python in /usr/local/lib/python3.6/dist-packages (from fastai) (3.4.1.15)\n",
            "Collecting tqdm (from fastai)\n",
            "\u001b[?25l  Downloading https://files.pythonhosted.org/packages/93/24/6ab1df969db228aed36a648a8959d1027099ce45fad67532b9673d533318/tqdm-4.23.4-py2.py3-none-any.whl (42kB)\n",
            "\u001b[K    100% |████████████████████████████████| 51kB 17.8MB/s \n",
            "\u001b[?25hRequirement already satisfied: MarkupSafe in /usr/local/lib/python3.6/dist-packages (from fastai) (1.0)\n",
            "Requirement already satisfied: traitlets in /usr/local/lib/python3.6/dist-packages (from fastai) (4.3.2)\n",
            "Requirement already satisfied: scipy in /usr/local/lib/python3.6/dist-packages (from fastai) (0.19.1)\n",
            "Requirement already satisfied: simplegeneric in /usr/local/lib/python3.6/dist-packages (from fastai) (0.8.1)\n",
            "Collecting feather-format (from fastai)\n",
            "  Downloading https://files.pythonhosted.org/packages/08/55/940b97cc6f19a19f5dab9efef2f68a0ce43a7632f858b272391f0b851a7e/feather-format-0.4.0.tar.gz\n",
            "Requirement already satisfied: testpath in /usr/local/lib/python3.6/dist-packages (from fastai) (0.3.1)\n",
            "Collecting graphviz (from fastai)\n",
            "  Downloading https://files.pythonhosted.org/packages/84/44/21a7fdd50841aaaef224b943f7d10df87e476e181bb926ccf859bcb53d48/graphviz-0.8.3-py2.py3-none-any.whl\n",
            "Requirement already satisfied: html5lib in /usr/local/lib/python3.6/dist-packages (from fastai) (0.9999999)\n",
            "Requirement already satisfied: wcwidth in /usr/local/lib/python3.6/dist-packages (from fastai) (0.1.7)\n",
            "Requirement already satisfied: seaborn in /usr/local/lib/python3.6/dist-packages (from fastai) (0.7.1)\n",
            "Requirement already satisfied: torch<0.4 in /usr/local/lib/python3.6/dist-packages (from fastai) (0.3.0.post4)\n",
            "Requirement already satisfied: pyparsing in /usr/local/lib/python3.6/dist-packages (from fastai) (2.2.0)\n",
            "Requirement already satisfied: requests in /usr/local/lib/python3.6/dist-packages (from torchtext->fastai) (2.18.4)\n",
            "Requirement already satisfied: six>=1.10 in /usr/local/lib/python3.6/dist-packages (from matplotlib->fastai) (1.11.0)\n",
            "Requirement already satisfied: nbformat>=4.2.0 in /usr/local/lib/python3.6/dist-packages (from ipywidgets->fastai) (4.4.0)\n",
            "Requirement already satisfied: notebook>=4.4.1 in /usr/local/lib/python3.6/dist-packages (from widgetsnbextension->fastai) (5.2.2)\n",
            "Requirement already satisfied: olefile in /usr/local/lib/python3.6/dist-packages (from Pillow->fastai) (0.45.1)\n",
            "Requirement already satisfied: scikit-learn>=0.15.0 in /usr/local/lib/python3.6/dist-packages (from sklearn-pandas->fastai) (0.19.1)\n",
            "Requirement already satisfied: jupyter-client in /usr/local/lib/python3.6/dist-packages (from ipykernel->fastai) (5.2.3)\n",
            "Collecting jupyter-console (from jupyter->fastai)\n",
            "  Downloading https://files.pythonhosted.org/packages/77/82/6469cd7fccf7958cbe5dce2e623f1e3c5e27f1bb1ad36d90519bc2d5d370/jupyter_console-5.2.0-py2.py3-none-any.whl\n",
            "Collecting qtconsole (from jupyter->fastai)\n",
            "\u001b[?25l  Downloading https://files.pythonhosted.org/packages/90/ff/047e0dca2627b162866920e7aa93f04523c0ae81e5c67060eec85701992d/qtconsole-4.3.1-py2.py3-none-any.whl (108kB)\n",
            "\u001b[K    100% |████████████████████████████████| 112kB 32.3MB/s \n",
            "\u001b[?25hRequirement already satisfied: nbconvert in /usr/local/lib/python3.6/dist-packages (from jupyter->fastai) (5.3.1)\n",
            "Requirement already satisfied: pexpect; sys_platform != \"win32\" in /usr/local/lib/python3.6/dist-packages (from ipython->fastai) (4.5.0)\n",
            "Requirement already satisfied: prompt-toolkit<2.0.0,>=1.0.4 in /usr/local/lib/python3.6/dist-packages (from ipython->fastai) (1.0.15)\n",
            "Requirement already satisfied: setuptools>=18.5 in /usr/local/lib/python3.6/dist-packages (from ipython->fastai) (39.2.0)\n",
            "Collecting mizani>=0.4.1 (from plotnine->fastai)\n",
            "\u001b[?25l  Downloading https://files.pythonhosted.org/packages/52/01/8a3b4c6e45749674a1e5241174b4b63cd6435125e124bec275f3e02c96ac/mizani-0.4.6-py2.py3-none-any.whl (65kB)\n",
            "\u001b[K    100% |████████████████████████████████| 71kB 26.1MB/s \n",
            "\u001b[?25hRequirement already satisfied: patsy>=0.4.1 in /usr/local/lib/python3.6/dist-packages (from plotnine->fastai) (0.5.0)\n",
            "Requirement already satisfied: statsmodels>=0.8.0 in /usr/local/lib/python3.6/dist-packages (from plotnine->fastai) (0.8.0)\n",
            "Collecting parso>=0.2.0 (from jedi->fastai)\n",
            "\u001b[?25l  Downloading https://files.pythonhosted.org/packages/cd/3e/5908f9577dbd1e5df53e64349bfd11e46b726c1e4d8cd676bbe8aa4de316/parso-0.2.1-py2.py3-none-any.whl (91kB)\n",
            "\u001b[K    100% |████████████████████████████████| 92kB 20.1MB/s \n",
            "\u001b[?25hCollecting pyarrow>=0.4.0 (from feather-format->fastai)\n",
            "\u001b[?25l  Downloading https://files.pythonhosted.org/packages/fe/27/576e6c979bfa5f63070f809c930aa85d6198b91d17a64866234597ba861f/pyarrow-0.9.0-cp36-cp36m-manylinux1_x86_64.whl (13.7MB)\n",
            "\u001b[K    14% |████▊                           | 2.0MB 43.0MB/s eta 0:00:01"
          ],
          "name": "stdout"
        },
        {
          "output_type": "stream",
          "text": [
            "\u001b[K    100% |████████████████████████████████| 13.7MB 2.8MB/s \n",
            "\u001b[?25hRequirement already satisfied: chardet<3.1.0,>=3.0.2 in /usr/local/lib/python3.6/dist-packages (from requests->torchtext->fastai) (3.0.4)\n",
            "Requirement already satisfied: urllib3<1.23,>=1.21.1 in /usr/local/lib/python3.6/dist-packages (from requests->torchtext->fastai) (1.22)\n",
            "Requirement already satisfied: idna<2.7,>=2.5 in /usr/local/lib/python3.6/dist-packages (from requests->torchtext->fastai) (2.6)\n",
            "Requirement already satisfied: jupyter-core in /usr/local/lib/python3.6/dist-packages (from nbformat>=4.2.0->ipywidgets->fastai) (4.4.0)\n",
            "Requirement already satisfied: terminado>=0.3.3; sys_platform != \"win32\" in /usr/local/lib/python3.6/dist-packages (from notebook>=4.4.1->widgetsnbextension->fastai) (0.8.1)\n",
            "Requirement already satisfied: pandocfilters>=1.4.1 in /usr/local/lib/python3.6/dist-packages (from nbconvert->jupyter->fastai) (1.4.2)\n",
            "Requirement already satisfied: mistune>=0.7.4 in /usr/local/lib/python3.6/dist-packages (from nbconvert->jupyter->fastai) (0.8.3)\n",
            "Collecting palettable (from mizani>=0.4.1->plotnine->fastai)\n",
            "\u001b[?25l  Downloading https://files.pythonhosted.org/packages/56/8a/84537c0354f0d1f03bf644b71bf8e0a50db9c1294181905721a5f3efbf66/palettable-3.1.1-py2.py3-none-any.whl (77kB)\n",
            "\u001b[K    100% |████████████████████████████████| 81kB 31.9MB/s \n",
            "\u001b[?25hBuilding wheels for collected packages: torchtext, bcolz, pandas-summary, feather-format\n",
            "  Running setup.py bdist_wheel for torchtext ... \u001b[?25l-\b \bdone\n",
            "\u001b[?25h  Stored in directory: /content/.cache/pip/wheels/42/a6/f4/b267328bde6bb680094a0c173e8e5627ccc99543abded97204\n",
            "  Running setup.py bdist_wheel for bcolz ... \u001b[?25l-\b \b\\\b \b|\b \b/\b \b-\b \b\\\b \b|\b \b/\b \b-\b \b\\\b \b|\b \b/\b \b-\b \b\\\b \b|\b \b/\b \b-\b \b\\\b \b|\b \b/\b \b-\b \b\\\b \b|\b \b/\b \b-\b \b\\\b \b|\b \b/\b \b-\b \b\\\b \b|\b \b/\b \b-\b \b\\\b \b|\b \b/\b \b-\b \b\\\b \b|\b \b/\b \b-\b \b\\\b \b|\b \b/"
          ],
          "name": "stdout"
        },
        {
          "output_type": "stream",
          "text": [
            "\b \b-\b \b\\\b \b|\b \b/\b \b-\b \b\\\b \b|\b \b/\b \b-\b \b\\\b \b|\b \b/\b \b-\b \b\\\b \b|\b \b/\b \b-\b \bdone\n",
            "\u001b[?25h  Stored in directory: /content/.cache/pip/wheels/9f/78/26/fb8c0acb91a100dc8914bf236c4eaa4b207cb876893c40b745\n",
            "  Running setup.py bdist_wheel for pandas-summary ... \u001b[?25l-\b \bdone\n",
            "\u001b[?25h  Stored in directory: /content/.cache/pip/wheels/86/a9/6b/36b727a9ec687dac08bd3d0501cddd7b1a223943513eb04a03\n",
            "  Running setup.py bdist_wheel for feather-format ... \u001b[?25l-\b \bdone\n",
            "\u001b[?25h  Stored in directory: /content/.cache/pip/wheels/85/7d/12/2dfa5c0195f921ac935f5e8f27deada74972edc0ae9988a9c1\n",
            "Successfully built torchtext bcolz pandas-summary feather-format\n",
            "\u001b[31mtorchvision 0.2.1 has requirement pillow>=4.1.1, but you'll have pillow 4.0.0 which is incompatible.\u001b[0m\n",
            "\u001b[31mplotnine 0.3.0 has requirement scipy>=1.0.0, but you'll have scipy 0.19.1 which is incompatible.\u001b[0m\n",
            "Installing collected packages: tqdm, torchtext, widgetsnbextension, ipywidgets, bcolz, pandas-summary, sklearn-pandas, torchvision, isoweek, jupyter-console, qtconsole, jupyter, palettable, mizani, plotnine, parso, jedi, pyarrow, feather-format, graphviz, fastai\n",
            "Successfully installed bcolz-1.2.1 fastai-0.7.0 feather-format-0.4.0 graphviz-0.8.3 ipywidgets-7.2.1 isoweek-1.3.3 jedi-0.12.0 jupyter-1.0.0 jupyter-console-5.2.0 mizani-0.4.6 palettable-3.1.1 pandas-summary-0.0.41 parso-0.2.1 plotnine-0.3.0 pyarrow-0.9.0 qtconsole-4.3.1 sklearn-pandas-1.6.0 torchtext-0.2.3 torchvision-0.2.1 tqdm-4.23.4 widgetsnbextension-3.2.1\n",
            "Requirement already satisfied: torchvision in /usr/local/lib/python3.6/dist-packages (0.2.1)\n",
            "Requirement already satisfied: torch in /usr/local/lib/python3.6/dist-packages (from torchvision) (0.3.0.post4)\n",
            "Collecting pillow>=4.1.1 (from torchvision)\n",
            "\u001b[?25l  Downloading https://files.pythonhosted.org/packages/5f/4b/8b54ab9d37b93998c81b364557dff9f61972c0f650efa0ceaf470b392740/Pillow-5.1.0-cp36-cp36m-manylinux1_x86_64.whl (2.0MB)\n",
            "\u001b[K    100% |████████████████████████████████| 2.0MB 6.5MB/s \n",
            "\u001b[?25hRequirement already satisfied: numpy in /usr/local/lib/python3.6/dist-packages (from torchvision) (1.14.3)\n",
            "Requirement already satisfied: six in /usr/local/lib/python3.6/dist-packages (from torchvision) (1.11.0)\n",
            "Requirement already satisfied: pyyaml in /usr/local/lib/python3.6/dist-packages (from torch->torchvision) (3.12)\n",
            "\u001b[31mplotnine 0.3.0 has requirement scipy>=1.0.0, but you'll have scipy 0.19.1 which is incompatible.\u001b[0m\n",
            "Installing collected packages: pillow\n",
            "  Found existing installation: Pillow 4.0.0\n",
            "    Uninstalling Pillow-4.0.0:\n",
            "      Successfully uninstalled Pillow-4.0.0\n",
            "Successfully installed pillow-5.1.0\n"
          ],
          "name": "stdout"
        }
      ]
    },
    {
      "metadata": {
        "id": "lpxgaCVPDMRd",
        "colab_type": "code",
        "colab": {
          "base_uri": "https://localhost:8080/",
          "height": 317
        },
        "outputId": "d7c36473-4915-4196-ccb7-97823c55a948"
      },
      "cell_type": "code",
      "source": [
        "!pip install kaggle\n",
        "!mkdir .kaggle\n",
        "!ls .kaggle\n",
        "!echo '{\"username\": \"abhisheksambyal\", \"key\": \"c6959ce81f26c06e28938ae290088cbe\", \"path\": \"/content/\"}' > .kaggle/kaggle.json\n",
        "!cat .kaggle/kaggle.json\n",
        "!chmod 600 /content/.kaggle/kaggle.json"
      ],
      "execution_count": 2,
      "outputs": [
        {
          "output_type": "stream",
          "text": [
            "Collecting kaggle\n",
            "  Downloading https://files.pythonhosted.org/packages/ac/6a/b03eb0855f313cc37c0df6bdac61e8248fda209153bee386f715e926a491/kaggle-1.3.11.1.tar.gz\n",
            "Requirement already satisfied: urllib3<1.23.0,>=1.15 in /usr/local/lib/python3.6/dist-packages (from kaggle) (1.22)\n",
            "Requirement already satisfied: six>=1.10 in /usr/local/lib/python3.6/dist-packages (from kaggle) (1.11.0)\n",
            "Requirement already satisfied: certifi in /usr/local/lib/python3.6/dist-packages (from kaggle) (2018.4.16)\n",
            "Requirement already satisfied: python-dateutil in /usr/local/lib/python3.6/dist-packages (from kaggle) (2.5.3)\n",
            "Requirement already satisfied: requests in /usr/local/lib/python3.6/dist-packages (from kaggle) (2.18.4)\n",
            "Requirement already satisfied: tqdm in /usr/local/lib/python3.6/dist-packages (from kaggle) (4.23.4)\n",
            "Requirement already satisfied: chardet<3.1.0,>=3.0.2 in /usr/local/lib/python3.6/dist-packages (from requests->kaggle) (3.0.4)\n",
            "Requirement already satisfied: idna<2.7,>=2.5 in /usr/local/lib/python3.6/dist-packages (from requests->kaggle) (2.6)\n",
            "Building wheels for collected packages: kaggle\n",
            "  Running setup.py bdist_wheel for kaggle ... \u001b[?25l-\b \b\\\b \bdone\n",
            "\u001b[?25h  Stored in directory: /content/.cache/pip/wheels/f1/34/79/fe71f4c2bf112baedf4e5c62e07cdecc018e793c735873afe6\n",
            "Successfully built kaggle\n",
            "\u001b[31mplotnine 0.3.0 has requirement scipy>=1.0.0, but you'll have scipy 0.19.1 which is incompatible.\u001b[0m\n",
            "Installing collected packages: kaggle\n",
            "Successfully installed kaggle-1.3.11.1\n",
            "{\"username\": \"abhisheksambyal\", \"key\": \"c6959ce81f26c06e28938ae290088cbe\", \"path\": \"/content/\"}\n"
          ],
          "name": "stdout"
        }
      ]
    },
    {
      "metadata": {
        "id": "mqYoxjXWE0KI",
        "colab_type": "code",
        "colab": {
          "base_uri": "https://localhost:8080/",
          "height": 517
        },
        "outputId": "3a6f4bd3-0430-4a17-8c38-b92d312d7837"
      },
      "cell_type": "code",
      "source": [
        "!kaggle competitions download -c planet-understanding-the-amazon-from-space"
      ],
      "execution_count": 3,
      "outputs": [
        {
          "output_type": "stream",
          "text": [
            "Downloading train-jpg.tar.7z to /content/competitions/planet-understanding-the-amazon-from-space\n",
            " 99%|████████████████████████████████████████▊| 597M/600M [00:04<00:00, 203MB/s]\n",
            "100%|█████████████████████████████████████████| 600M/600M [00:04<00:00, 153MB/s]\n",
            "Downloading test-jpg.tar.7z to /content/competitions/planet-understanding-the-amazon-from-space\n",
            " 99%|████████████████████████████████████████▋| 598M/603M [00:03<00:00, 172MB/s]\n",
            "100%|█████████████████████████████████████████| 603M/603M [00:03<00:00, 161MB/s]\n",
            "Downloading train-tif-v2.tar.7z to /content/competitions/planet-understanding-the-amazon-from-space\n",
            " 15%|█████▊                                 | 1.92G/12.9G [00:13<01:16, 154MB/s]"
          ],
          "name": "stdout"
        },
        {
          "output_type": "stream",
          "text": [
            "100%|██████████████████████████████████████▉| 12.9G/12.9G [01:32<00:00, 141MB/s]\n",
            "100%|███████████████████████████████████████| 12.9G/12.9G [01:32<00:00, 149MB/s]\n",
            "Downloading test-tif-v2.tar.7z to /content/competitions/planet-understanding-the-amazon-from-space\n",
            " 11%|████▍                                  | 2.20G/19.4G [00:15<02:03, 150MB/s]"
          ],
          "name": "stdout"
        },
        {
          "output_type": "stream",
          "text": [
            "100%|██████████████████████████████████████▉| 19.4G/19.4G [02:19<00:00, 146MB/s]\n",
            "100%|███████████████████████████████████████| 19.4G/19.4G [02:19<00:00, 149MB/s]\n",
            "Downloading test-jpg-additional.tar.7z to /content/competitions/planet-understanding-the-amazon-from-space\n",
            " 94%|██████████████████████████████████████▎  | 284M/304M [00:02<00:00, 164MB/s]\n",
            "100%|█████████████████████████████████████████| 304M/304M [00:02<00:00, 133MB/s]\n",
            "Downloading Kaggle-planet-test-tif.torrent to /content/competitions/planet-understanding-the-amazon-from-space\n",
            "  0%|                                               | 0.00/1.52M [00:00<?, ?B/s]\n",
            "100%|███████████████████████████████████████| 1.52M/1.52M [00:00<00:00, 244MB/s]\n",
            "Downloading Kaggle-planet-train-tif.torrent to /content/competitions/planet-understanding-the-amazon-from-space\n",
            "  0%|                                               | 0.00/1.01M [00:00<?, ?B/s]\n",
            "100%|██████████████████████████████████████| 1.01M/1.01M [00:00<00:00, 89.6MB/s]\n",
            "Downloading sample_submission_v2.csv.zip to /content/competitions/planet-understanding-the-amazon-from-space\n",
            "  0%|                                                | 0.00/154k [00:00<?, ?B/s]\n",
            "100%|█████████████████████████████████████████| 154k/154k [00:00<00:00, 137MB/s]\n",
            "Downloading train_v2.csv.zip to /content/competitions/planet-understanding-the-amazon-from-space\n",
            "  0%|                                                | 0.00/159k [00:00<?, ?B/s]\n",
            "100%|████████████████████████████████████████| 159k/159k [00:00<00:00, 70.1MB/s]\n",
            "Downloading test_v2_file_mapping.csv.zip to /content/competitions/planet-understanding-the-amazon-from-space\n",
            "  0%|                                                | 0.00/110k [00:00<?, ?B/s]\n",
            "100%|████████████████████████████████████████| 110k/110k [00:00<00:00, 63.5MB/s]\n"
          ],
          "name": "stdout"
        }
      ]
    },
    {
      "metadata": {
        "id": "s9WwefC8BOuS",
        "colab_type": "code",
        "colab": {
          "base_uri": "https://localhost:8080/",
          "height": 417
        },
        "outputId": "583d3d9e-7dde-4a6c-cbd5-617fb4a8f309"
      },
      "cell_type": "code",
      "source": [
        "!apt-get install p7zip-full"
      ],
      "execution_count": 8,
      "outputs": [
        {
          "output_type": "stream",
          "text": [
            "Reading package lists... Done\n",
            "Building dependency tree       \n",
            "Reading state information... Done\n",
            "The following additional packages will be installed:\n",
            "  p7zip\n",
            "Suggested packages:\n",
            "  p7zip-rar\n",
            "The following NEW packages will be installed:\n",
            "  p7zip p7zip-full\n",
            "0 upgraded, 2 newly installed, 0 to remove and 23 not upgraded.\n",
            "Need to get 1,467 kB of archives.\n",
            "After this operation, 5,415 kB of additional disk space will be used.\n",
            "Get:1 http://archive.ubuntu.com/ubuntu artful/universe amd64 p7zip amd64 16.02+dfsg-4 [348 kB]\n",
            "Get:2 http://archive.ubuntu.com/ubuntu artful/universe amd64 p7zip-full amd64 16.02+dfsg-4 [1,119 kB]\n",
            "Fetched 1,467 kB in 1s (1,001 kB/s)\n",
            "Selecting previously unselected package p7zip.\n",
            "(Reading database ... 18298 files and directories currently installed.)\n",
            "Preparing to unpack .../p7zip_16.02+dfsg-4_amd64.deb ...\n",
            "Unpacking p7zip (16.02+dfsg-4) ...\n",
            "Selecting previously unselected package p7zip-full.\n",
            "Preparing to unpack .../p7zip-full_16.02+dfsg-4_amd64.deb ...\n",
            "Unpacking p7zip-full (16.02+dfsg-4) ...\n",
            "Setting up p7zip (16.02+dfsg-4) ...\n",
            "Setting up p7zip-full (16.02+dfsg-4) ...\n"
          ],
          "name": "stdout"
        }
      ]
    },
    {
      "metadata": {
        "id": "-qZ8eS8HPa6z",
        "colab_type": "text"
      },
      "cell_type": "markdown",
      "source": [
        "# Extracting Dataset"
      ]
    },
    {
      "metadata": {
        "id": "YIPdrv8rGmhr",
        "colab_type": "code",
        "colab": {
          "base_uri": "https://localhost:8080/",
          "height": 167
        },
        "outputId": "d1f0821f-e067-4589-d265-3af2ee4c88d7"
      },
      "cell_type": "code",
      "source": [
        "# !ls competitions/planet-understanding-the-amazon-from-space\n",
        "# !ls competitions/planet-understanding-the-amazon-from-space/*.zip\n",
        "!unzip -q competitions/planet-understanding-the-amazon-from-space/\\*.zip -d competitions/planet-understanding-the-amazon-from-space\n",
        "!ls competitions/planet-understanding-the-amazon-from-space"
      ],
      "execution_count": 29,
      "outputs": [
        {
          "output_type": "stream",
          "text": [
            "\r\n",
            "3 archives were successfully processed.\n",
            "Kaggle-planet-test-tif.torrent\t test-tif-v2.tar.7z\n",
            "Kaggle-planet-train-tif.torrent  test_v2_file_mapping.csv\n",
            "__MACOSX\t\t\t test_v2_file_mapping.csv.zip\n",
            "sample_submission_v2.csv\t train-jpg.tar.7z\n",
            "sample_submission_v2.csv.zip\t train-tif-v2.tar.7z\n",
            "test-jpg-additional.tar.7z\t train_v2.csv\n",
            "test-jpg.tar.7z\t\t\t train_v2.csv.zip\n"
          ],
          "name": "stdout"
        }
      ]
    },
    {
      "metadata": {
        "id": "TX3By3F3JS4V",
        "colab_type": "code",
        "colab": {
          "base_uri": "https://localhost:8080/",
          "height": 50
        },
        "outputId": "887596f4-0837-4982-ba76-8a3456f25f36"
      },
      "cell_type": "code",
      "source": [
        "# !ls competitions/planet-understanding-the-amazon-from-space/*.7z\n",
        "# !ls competitions/planet-understanding-the-amazon-from-space/*jpg*.7z\n",
        "!ls competitions/planet-understanding-the-amazon-from-space/*tif*.7z"
      ],
      "execution_count": 53,
      "outputs": [
        {
          "output_type": "stream",
          "text": [
            "competitions/planet-understanding-the-amazon-from-space/test-tif-v2.tar.7z\r\n",
            "competitions/planet-understanding-the-amazon-from-space/train-tif-v2.tar.7z\r\n"
          ],
          "name": "stdout"
        }
      ]
    },
    {
      "metadata": {
        "id": "XT0SPW4hCcZq",
        "colab_type": "code",
        "colab": {
          "base_uri": "https://localhost:8080/",
          "height": 967
        },
        "outputId": "e15f204a-725a-45aa-a2eb-8820685d291b"
      },
      "cell_type": "code",
      "source": [
        "!7za x competitions/planet-understanding-the-amazon-from-space/\\*jpg*.7z -ocompetitions/planet-understanding-the-amazon-from-space\n",
        "!ls competitions/planet-understanding-the-amazon-from-space"
      ],
      "execution_count": 54,
      "outputs": [
        {
          "output_type": "stream",
          "text": [
            "\r\n",
            "7-Zip (a) [64] 16.02 : Copyright (c) 1999-2016 Igor Pavlov : 2016-05-21\r\n",
            "p7zip Version 16.02 (locale=en_US.UTF-8,Utf16=on,HugeFiles=on,64 bits,2 CPUs Intel(R) Xeon(R) CPU @ 2.20GHz (406F0),ASM,AES-NI)\r\n",
            "\r\n",
            "Scanning the drive for archives:\r\n",
            "  0M Scan\b\b\b\b\b\b\b\b\b         \b\b\b\b\b\b\b\b\b3 files, 1580065717 bytes (1507 MiB)\r\n",
            "  0%\b\b\b\b    \b\b\b\b\r\n",
            "Extracting archive: competitions/planet-understanding-the-amazon-from-space/test-jpg-additional.tar.7z\r\n",
            "--\r\n",
            "Path = competitions/planet-understanding-the-amazon-from-space/test-jpg-additional.tar.7z\r\n",
            "Type = 7z\r\n",
            "Physical Size = 318407195\r\n",
            "Headers Size = 98\r\n",
            "Method = LZMA2:24\r\n",
            "Solid = -\r\n",
            "Blocks = 1\r\n",
            "\n",
            "  0%\b\b\b\b    \b\b\b\b  0% - test-jpg-additional.tar\b\b\b\b\b\b\b\b\b\b\b\b\b\b\b\b\b\b\b\b\b\b\b\b\b\b\b\b\b\b                              \b\b\b\b\b\b\b\b\b\b\b\b\b\b\b\b\b\b\b\b\b\b\b\b\b\b\b\b\b\b  1% - test-jpg-additional.tar\b\b\b\b\b\b\b\b\b\b\b\b\b\b\b\b\b\b\b\b\b\b\b\b\b\b\b\b\b\b                              \b\b\b\b\b\b\b\b\b\b\b\b\b\b\b\b\b\b\b\b\b\b\b\b\b\b\b\b\b\b  2% - test-jpg-additional.tar\b\b\b\b\b\b\b\b\b\b\b\b\b\b\b\b\b\b\b\b\b\b\b\b\b\b\b\b\b\b                              \b\b\b\b\b\b\b\b\b\b\b\b\b\b\b\b\b\b\b\b\b\b\b\b\b\b\b\b\b\b  3% - test-jpg-additional.tar\b\b\b\b\b\b\b\b\b\b\b\b\b\b\b\b\b\b\b\b\b\b\b\b\b\b\b\b\b\b                              \b\b\b\b\b\b\b\b\b\b\b\b\b\b\b\b\b\b\b\b\b\b\b\b\b\b\b\b\b\b  4% - test-jpg-additional.tar\b\b\b\b\b\b\b\b\b\b\b\b\b\b\b\b\b\b\b\b\b\b\b\b\b\b\b\b\b\b                              \b\b\b\b\b\b\b\b\b\b\b\b\b\b\b\b\b\b\b\b\b\b\b\b\b\b\b\b\b\b  5% - test-jpg-additional.tar\b\b\b\b\b\b\b\b\b\b\b\b\b\b\b\b\b\b\b\b\b\b\b\b\b\b\b\b\b\b                              \b\b\b\b\b\b\b\b\b\b\b\b\b\b\b\b\b\b\b\b\b\b\b\b\b\b\b\b\b\b  6% - test-jpg-additional.tar\b\b\b\b\b\b\b\b\b\b\b\b\b\b\b\b\b\b\b\b\b\b\b\b\b\b\b\b\b\b                              \b\b\b\b\b\b\b\b\b\b\b\b\b\b\b\b\b\b\b\b\b\b\b\b\b\b\b\b\b\b  7% - test-jpg-additional.tar\b\b\b\b\b\b\b\b\b\b\b\b\b\b\b\b\b\b\b\b\b\b\b\b\b\b\b\b\b\b                              \b\b\b\b\b\b\b\b\b\b\b\b\b\b\b\b\b\b\b\b\b\b\b\b\b\b\b\b\b\b  8% - test-jpg-additional.tar\b\b\b\b\b\b\b\b\b\b\b\b\b\b\b\b\b\b\b\b\b\b\b\b\b\b\b\b\b\b                              \b\b\b\b\b\b\b\b\b\b\b\b\b\b\b\b\b\b\b\b\b\b\b\b\b\b\b\b\b\b  9% - test-jpg-additional.tar\b\b\b\b\b\b\b\b\b\b\b\b\b\b\b\b\b\b\b\b\b\b\b\b\b\b\b\b\b\b                              \b\b\b\b\b\b\b\b\b\b\b\b\b\b\b\b\b\b\b\b\b\b\b\b\b\b\b\b\b\b 10% - test-jpg-additional.tar\b\b\b\b\b\b\b\b\b\b\b\b\b\b\b\b\b\b\b\b\b\b\b\b\b\b\b\b\b\b                              \b\b\b\b\b\b\b\b\b\b\b\b\b\b\b\b\b\b\b\b\b\b\b\b\b\b\b\b\b\b 11% - test-jpg-additional.tar\b\b\b\b\b\b\b\b\b\b\b\b\b\b\b\b\b\b\b\b\b\b\b\b\b\b\b\b\b\b                              \b\b\b\b\b\b\b\b\b\b\b\b\b\b\b\b\b\b\b\b\b\b\b\b\b\b\b\b\b\b 12% - test-jpg-additional.tar\b\b\b\b\b\b\b\b\b\b\b\b\b\b\b\b\b\b\b\b\b\b\b\b\b\b\b\b\b\b                              \b\b\b\b\b\b\b\b\b\b\b\b\b\b\b\b\b\b\b\b\b\b\b\b\b\b\b\b\b\b 13% - test-jpg-additional.tar\b\b\b\b\b\b\b\b\b\b\b\b\b\b\b\b\b\b\b\b\b\b\b\b\b\b\b\b\b\b                              \b\b\b\b\b\b\b\b\b\b\b\b\b\b\b\b\b\b\b\b\b\b\b\b\b\b\b\b\b\b 14% - test-jpg-additional.tar\b\b\b\b\b\b\b\b\b\b\b\b\b\b\b\b\b\b\b\b\b\b\b\b\b\b\b\b\b\b                              \b\b\b\b\b\b\b\b\b\b\b\b\b\b\b\b\b\b\b\b\b\b\b\b\b\b\b\b\b\b 15% - test-jpg-additional.tar\b\b\b\b\b\b\b\b\b\b\b\b\b\b\b\b\b\b\b\b\b\b\b\b\b\b\b\b\b\b                              \b\b\b\b\b\b\b\b\b\b\b\b\b\b\b\b\b\b\b\b\b\b\b\b\b\b\b\b\b\b 16% - test-jpg-additional.tar\b\b\b\b\b\b\b\b\b\b\b\b\b\b\b\b\b\b\b\b\b\b\b\b\b\b\b\b\b\b                              \b\b\b\b\b\b\b\b\b\b\b\b\b\b\b\b\b\b\b\b\b\b\b\b\b\b\b\b\b\b 17% - test-jpg-additional.tar\b\b\b\b\b\b\b\b\b\b\b\b\b\b\b\b\b\b\b\b\b\b\b\b\b\b\b\b\b\b                              \b\b\b\b\b\b\b\b\b\b\b\b\b\b\b\b\b\b\b\b\b\b\b\b\b\b\b\b\b\b 18% - test-jpg-additional.tar\b\b\b\b\b\b\b\b\b\b\b\b\b\b\b\b\b\b\b\b\b\b\b\b\b\b\b\b\b\b                              \b\b\b\b\b\b\b\b\b\b\b\b\b\b\b\b\b\b\b\b\b\b\b\b\b\b\b\b\b\b 19% - test-jpg-additional.tar\b\b\b\b\b\b\b\b\b\b\b\b\b\b\b\b\b\b\b\b\b\b\b\b\b\b\b\b\b\b                              \b\b\b\b\b\b\b\b\b\b\b\b\b\b\b\b\b\b\b\b\b\b\b\b\b\b\b\b\b\b 20% - test-jpg-additional.tar\b\b\b\b\b\b\b\b\b\b\b\b\b\b\b\b\b\b\b\b\b\b\b\b\b\b\b\b\b\b                              \b\b\b\b\b\b\b\b\b\b\b\b\b\b\b\b\b\b\b\b\b\b\b\b\b\b\b\b\b\bEverything is Ok\n",
            "\n",
            "Extracting archive: competitions/planet-understanding-the-amazon-from-space/test-jpg.tar.7z\n",
            "--\n",
            "Path = competitions/planet-understanding-the-amazon-from-space/test-jpg.tar.7z\n",
            "Type = 7z\n",
            "Physical Size = 632362315\n",
            "Headers Size = 98\n",
            "Method = LZMA2:24\n",
            "Solid = -\n",
            "Blocks = 1\n",
            "\n",
            " 20%\b\b\b\b    \b\b\b\b 20% - test-jpg.tar\b\b\b\b\b\b\b\b\b\b\b\b\b\b\b\b\b\b\b                   \b\b\b\b\b\b\b\b\b\b\b\b\b\b\b\b\b\b\b 21% - test-jpg.tar\b\b\b\b\b\b\b\b\b\b\b\b\b\b\b\b\b\b\b                   \b\b\b\b\b\b\b\b\b\b\b\b\b\b\b\b\b\b\b 22% - test-jpg.tar\b\b\b\b\b\b\b\b\b\b\b\b\b\b\b\b\b\b\b                   \b\b\b\b\b\b\b\b\b\b\b\b\b\b\b\b\b\b\b 23% - test-jpg.tar\b\b\b\b\b\b\b\b\b\b\b\b\b\b\b\b\b\b\b                   \b\b\b\b\b\b\b\b\b\b\b\b\b\b\b\b\b\b\b 24% - test-jpg.tar\b\b\b\b\b\b\b\b\b\b\b\b\b\b\b\b\b\b\b                   \b\b\b\b\b\b\b\b\b\b\b\b\b\b\b\b\b\b\b 25% - test-jpg.tar\b\b\b\b\b\b\b\b\b\b\b\b\b\b\b\b\b\b\b                   \b\b\b\b\b\b\b\b\b\b\b\b\b\b\b\b\b\b\b 26% - test-jpg.tar\b\b\b\b\b\b\b\b\b\b\b\b\b\b\b\b\b\b\b                   \b\b\b\b\b\b\b\b\b\b\b\b\b\b\b\b\b\b\b 27% - test-jpg.tar\b\b\b\b\b\b\b\b\b\b\b\b\b\b\b\b\b\b\b                   \b\b\b\b\b\b\b\b\b\b\b\b\b\b\b\b\b\b\b 28% - test-jpg.tar\b\b\b\b\b\b\b\b\b\b\b\b\b\b\b\b\b\b\b                   \b\b\b\b\b\b\b\b\b\b\b\b\b\b\b\b\b\b\b 29% - test-jpg.tar\b\b\b\b\b\b\b\b\b\b\b\b\b\b\b\b\b\b\b                   \b\b\b\b\b\b\b\b\b\b\b\b\b\b\b\b\b\b\b 30% - test-jpg.tar\b\b\b\b\b\b\b\b\b\b\b\b\b\b\b\b\b\b\b                   \b\b\b\b\b\b\b\b\b\b\b\b\b\b\b\b\b\b\b 31% - test-jpg.tar\b\b\b\b\b\b\b\b\b\b\b\b\b\b\b\b\b\b\b                   \b\b\b\b\b\b\b\b\b\b\b\b\b\b\b\b\b\b\b 32% - test-jpg.tar\b\b\b\b\b\b\b\b\b\b\b\b\b\b\b\b\b\b\b                   \b\b\b\b\b\b\b\b\b\b\b\b\b\b\b\b\b\b\b 33% - test-jpg.tar"
          ],
          "name": "stdout"
        },
        {
          "output_type": "stream",
          "text": [
            "\b\b\b\b\b\b\b\b\b\b\b\b\b\b\b\b\b\b\b                   \b\b\b\b\b\b\b\b\b\b\b\b\b\b\b\b\b\b\b 34% - test-jpg.tar\b\b\b\b\b\b\b\b\b\b\b\b\b\b\b\b\b\b\b                   \b\b\b\b\b\b\b\b\b\b\b\b\b\b\b\b\b\b\b 35% - test-jpg.tar\b\b\b\b\b\b\b\b\b\b\b\b\b\b\b\b\b\b\b                   \b\b\b\b\b\b\b\b\b\b\b\b\b\b\b\b\b\b\b 36% - test-jpg.tar\b\b\b\b\b\b\b\b\b\b\b\b\b\b\b\b\b\b\b                   \b\b\b\b\b\b\b\b\b\b\b\b\b\b\b\b\b\b\b 37% - test-jpg.tar\b\b\b\b\b\b\b\b\b\b\b\b\b\b\b\b\b\b\b                   \b\b\b\b\b\b\b\b\b\b\b\b\b\b\b\b\b\b\b 38% - test-jpg.tar\b\b\b\b\b\b\b\b\b\b\b\b\b\b\b\b\b\b\b                   \b\b\b\b\b\b\b\b\b\b\b\b\b\b\b\b\b\b\b 39% - test-jpg.tar\b\b\b\b\b\b\b\b\b\b\b\b\b\b\b\b\b\b\b                   \b\b\b\b\b\b\b\b\b\b\b\b\b\b\b\b\b\b\b 40% - test-jpg.tar\b\b\b\b\b\b\b\b\b\b\b\b\b\b\b\b\b\b\b                   \b\b\b\b\b\b\b\b\b\b\b\b\b\b\b\b\b\b\b 41% - test-jpg.tar\b\b\b\b\b\b\b\b\b\b\b\b\b\b\b\b\b\b\b                   \b\b\b\b\b\b\b\b\b\b\b\b\b\b\b\b\b\b\b 42% - test-jpg.tar\b\b\b\b\b\b\b\b\b\b\b\b\b\b\b\b\b\b\b                   \b\b\b\b\b\b\b\b\b\b\b\b\b\b\b\b\b\b\b 43% - test-jpg.tar\b\b\b\b\b\b\b\b\b\b\b\b\b\b\b\b\b\b\b                   \b\b\b\b\b\b\b\b\b\b\b\b\b\b\b\b\b\b\b 44% - test-jpg.tar\b\b\b\b\b\b\b\b\b\b\b\b\b\b\b\b\b\b\b                   \b\b\b\b\b\b\b\b\b\b\b\b\b\b\b\b\b\b\b 45% - test-jpg.tar\b\b\b\b\b\b\b\b\b\b\b\b\b\b\b\b\b\b\b                   \b\b\b\b\b\b\b\b\b\b\b\b\b\b\b\b\b\b\b 46% - test-jpg.tar\b\b\b\b\b\b\b\b\b\b\b\b\b\b\b\b\b\b\b                   \b\b\b\b\b\b\b\b\b\b\b\b\b\b\b\b\b\b\b 47% - test-jpg.tar\b\b\b\b\b\b\b\b\b\b\b\b\b\b\b\b\b\b\b                   \b\b\b\b\b\b\b\b\b\b\b\b\b\b\b\b\b\b\b 48% - test-jpg.tar\b\b\b\b\b\b\b\b\b\b\b\b\b\b\b\b\b\b\b                   \b\b\b\b\b\b\b\b\b\b\b\b\b\b\b\b\b\b\b 49% - test-jpg.tar\b\b\b\b\b\b\b\b\b\b\b\b\b\b\b\b\b\b\b                   \b\b\b\b\b\b\b\b\b\b\b\b\b\b\b\b\b\b\b 50% - test-jpg.tar\b\b\b\b\b\b\b\b\b\b\b\b\b\b\b\b\b\b\b                   \b\b\b\b\b\b\b\b\b\b\b\b\b\b\b\b\b\b\b 51% - test-jpg.tar\b\b\b\b\b\b\b\b\b\b\b\b\b\b\b\b\b\b\b                   \b\b\b\b\b\b\b\b\b\b\b\b\b\b\b\b\b\b\b 52% - test-jpg.tar\b\b\b\b\b\b\b\b\b\b\b\b\b\b\b\b\b\b\b                   \b\b\b\b\b\b\b\b\b\b\b\b\b\b\b\b\b\b\b 53% - test-jpg.tar\b\b\b\b\b\b\b\b\b\b\b\b\b\b\b\b\b\b\b                   \b\b\b\b\b\b\b\b\b\b\b\b\b\b\b\b\b\b\b 54% - test-jpg.tar\b\b\b\b\b\b\b\b\b\b\b\b\b\b\b\b\b\b\b                   \b\b\b\b\b\b\b\b\b\b\b\b\b\b\b\b\b\b\b 55% - test-jpg.tar\b\b\b\b\b\b\b\b\b\b\b\b\b\b\b\b\b\b\b                   \b\b\b\b\b\b\b\b\b\b\b\b\b\b\b\b\b\b\b 56% - test-jpg.tar\b\b\b\b\b\b\b\b\b\b\b\b\b\b\b\b\b\b\b                   \b\b\b\b\b\b\b\b\b\b\b\b\b\b\b\b\b\b\b 57% - test-jpg.tar\b\b\b\b\b\b\b\b\b\b\b\b\b\b\b\b\b\b\b                   \b\b\b\b\b\b\b\b\b\b\b\b\b\b\b\b\b\b\b 58% - test-jpg.tar\b\b\b\b\b\b\b\b\b\b\b\b\b\b\b\b\b\b\b                   \b\b\b\b\b\b\b\b\b\b\b\b\b\b\b\b\b\b\b 59% - test-jpg.tar\b\b\b\b\b\b\b\b\b\b\b\b\b\b\b\b\b\b\b                   \b\b\b\b\b\b\b\b\b\b\b\b\b\b\b\b\b\b\b 60% - test-jpg.tar\b\b\b\b\b\b\b\b\b\b\b\b\b\b\b\b\b\b\b                   \b\b\b\b\b\b\b\b\b\b\b\b\b\b\b\b\b\b\bEverything is Ok\n",
            "\n",
            "Extracting archive: competitions/planet-understanding-the-amazon-from-space/train-jpg.tar.7z\n",
            "--\n",
            "Path = competitions/planet-understanding-the-amazon-from-space/train-jpg.tar.7z\n",
            "Type = 7z\n",
            "Physical Size = 629296207\n",
            "Headers Size = 98\n",
            "Method = LZMA2:24\n",
            "Solid = -\n",
            "Blocks = 1\n",
            "\n",
            " 60%\b\b\b\b    \b\b\b\b 60% - train-jpg.tar\b\b\b\b\b\b\b\b\b\b\b\b\b\b\b\b\b\b\b\b                    \b\b\b\b\b\b\b\b\b\b\b\b\b\b\b\b\b\b\b\b 61% - train-jpg.tar\b\b\b\b\b\b\b\b\b\b\b\b\b\b\b\b\b\b\b\b                    \b\b\b\b\b\b\b\b\b\b\b\b\b\b\b\b\b\b\b\b 62% - train-jpg.tar\b\b\b\b\b\b\b\b\b\b\b\b\b\b\b\b\b\b\b\b                    \b\b\b\b\b\b\b\b\b\b\b\b\b\b\b\b\b\b\b\b 63% - train-jpg.tar\b\b\b\b\b\b\b\b\b\b\b\b\b\b\b\b\b\b\b\b                    \b\b\b\b\b\b\b\b\b\b\b\b\b\b\b\b\b\b\b\b 64% - train-jpg.tar\b\b\b\b\b\b\b\b\b\b\b\b\b\b\b\b\b\b\b\b                    \b\b\b\b\b\b\b\b\b\b\b\b\b\b\b\b\b\b\b\b 65% - train-jpg.tar\b\b\b\b\b\b\b\b\b\b\b\b\b\b\b\b\b\b\b\b                    \b\b\b\b\b\b\b\b\b\b\b\b\b\b\b\b\b\b\b\b 66% - train-jpg.tar\b\b\b\b\b\b\b\b\b\b\b\b\b\b\b\b\b\b\b\b                    \b\b\b\b\b\b\b\b\b\b\b\b\b\b\b\b\b\b\b\b 67% - train-jpg.tar\b\b\b\b\b\b\b\b\b\b\b\b\b\b\b\b\b\b\b\b                    \b\b\b\b\b\b\b\b\b\b\b\b\b\b\b\b\b\b\b\b 68% - train-jpg.tar\b\b\b\b\b\b\b\b\b\b\b\b\b\b\b\b\b\b\b\b                    \b\b\b\b\b\b\b\b\b\b\b\b\b\b\b\b\b\b\b\b 69% - train-jpg.tar\b\b\b\b\b\b\b\b\b\b\b\b\b\b\b\b\b\b\b\b                    \b\b\b\b\b\b\b\b\b\b\b\b\b\b\b\b\b\b\b\b 70% - train-jpg.tar\b\b\b\b\b\b\b\b\b\b\b\b\b\b\b\b\b\b\b\b                    \b\b\b\b\b\b\b\b\b\b\b\b\b\b\b\b\b\b\b\b 71% - train-jpg.tar\b\b\b\b\b\b\b\b\b\b\b\b\b\b\b\b\b\b\b\b                    \b\b\b\b\b\b\b\b\b\b\b\b\b\b\b\b\b\b\b\b 72% - train-jpg.tar\b\b\b\b\b\b\b\b\b\b\b\b\b\b\b\b\b\b\b\b                    \b\b\b\b\b\b\b\b\b\b\b\b\b\b\b\b\b\b\b\b 73% - train-jpg.tar\b\b\b\b\b\b\b\b\b\b\b\b\b\b\b\b\b\b\b\b                    \b\b\b\b\b\b\b\b\b\b\b\b\b\b\b\b\b\b\b\b 74% - train-jpg.tar\b\b\b\b\b\b\b\b\b\b\b\b\b\b\b\b\b\b\b\b                    \b\b\b\b\b\b\b\b\b\b\b\b\b\b\b\b\b\b\b\b 75% - train-jpg.tar\b\b\b\b\b\b\b\b\b\b\b\b\b\b\b\b\b\b\b\b                    \b\b\b\b\b\b\b\b\b\b\b\b\b\b\b\b\b\b\b\b 76% - train-jpg.tar\b\b\b\b\b\b\b\b\b\b\b\b\b\b\b\b\b\b\b\b                    \b\b\b\b\b\b\b\b\b\b\b\b\b\b\b\b\b\b\b\b 77% - train-jpg.tar\b\b\b\b\b\b\b\b\b\b\b\b\b\b\b\b\b\b\b\b                    \b\b\b\b\b\b\b\b\b\b\b\b\b\b\b\b\b\b\b\b 78% - train-jpg.tar\b\b\b\b\b\b\b\b\b\b\b\b\b\b\b\b\b\b\b\b                    \b\b\b\b\b\b\b\b\b\b\b\b\b\b\b\b\b\b\b\b 79% - train-jpg.tar\b\b\b\b\b\b\b\b\b\b\b\b\b\b\b\b\b\b\b\b                    \b\b\b\b\b\b\b\b\b\b\b\b\b\b\b\b\b\b\b\b 80% - train-jpg.tar"
          ],
          "name": "stdout"
        },
        {
          "output_type": "stream",
          "text": [
            "\b\b\b\b\b\b\b\b\b\b\b\b\b\b\b\b\b\b\b\b                    \b\b\b\b\b\b\b\b\b\b\b\b\b\b\b\b\b\b\b\b 81% - train-jpg.tar\b\b\b\b\b\b\b\b\b\b\b\b\b\b\b\b\b\b\b\b                    \b\b\b\b\b\b\b\b\b\b\b\b\b\b\b\b\b\b\b\b 82% - train-jpg.tar\b\b\b\b\b\b\b\b\b\b\b\b\b\b\b\b\b\b\b\b                    \b\b\b\b\b\b\b\b\b\b\b\b\b\b\b\b\b\b\b\b 83% - train-jpg.tar\b\b\b\b\b\b\b\b\b\b\b\b\b\b\b\b\b\b\b\b                    \b\b\b\b\b\b\b\b\b\b\b\b\b\b\b\b\b\b\b\b 84% - train-jpg.tar\b\b\b\b\b\b\b\b\b\b\b\b\b\b\b\b\b\b\b\b                    \b\b\b\b\b\b\b\b\b\b\b\b\b\b\b\b\b\b\b\b 85% - train-jpg.tar\b\b\b\b\b\b\b\b\b\b\b\b\b\b\b\b\b\b\b\b                    \b\b\b\b\b\b\b\b\b\b\b\b\b\b\b\b\b\b\b\b 86% - train-jpg.tar\b\b\b\b\b\b\b\b\b\b\b\b\b\b\b\b\b\b\b\b                    \b\b\b\b\b\b\b\b\b\b\b\b\b\b\b\b\b\b\b\b 87% - train-jpg.tar\b\b\b\b\b\b\b\b\b\b\b\b\b\b\b\b\b\b\b\b                    \b\b\b\b\b\b\b\b\b\b\b\b\b\b\b\b\b\b\b\b 88% - train-jpg.tar\b\b\b\b\b\b\b\b\b\b\b\b\b\b\b\b\b\b\b\b                    \b\b\b\b\b\b\b\b\b\b\b\b\b\b\b\b\b\b\b\b 89% - train-jpg.tar\b\b\b\b\b\b\b\b\b\b\b\b\b\b\b\b\b\b\b\b                    \b\b\b\b\b\b\b\b\b\b\b\b\b\b\b\b\b\b\b\b 90% - train-jpg.tar\b\b\b\b\b\b\b\b\b\b\b\b\b\b\b\b\b\b\b\b                    \b\b\b\b\b\b\b\b\b\b\b\b\b\b\b\b\b\b\b\b 91% - train-jpg.tar\b\b\b\b\b\b\b\b\b\b\b\b\b\b\b\b\b\b\b\b                    \b\b\b\b\b\b\b\b\b\b\b\b\b\b\b\b\b\b\b\b 92% - train-jpg.tar\b\b\b\b\b\b\b\b\b\b\b\b\b\b\b\b\b\b\b\b                    \b\b\b\b\b\b\b\b\b\b\b\b\b\b\b\b\b\b\b\b 93% - train-jpg.tar\b\b\b\b\b\b\b\b\b\b\b\b\b\b\b\b\b\b\b\b                    \b\b\b\b\b\b\b\b\b\b\b\b\b\b\b\b\b\b\b\b 94% - train-jpg.tar\b\b\b\b\b\b\b\b\b\b\b\b\b\b\b\b\b\b\b\b                    \b\b\b\b\b\b\b\b\b\b\b\b\b\b\b\b\b\b\b\b 95% - train-jpg.tar\b\b\b\b\b\b\b\b\b\b\b\b\b\b\b\b\b\b\b\b                    \b\b\b\b\b\b\b\b\b\b\b\b\b\b\b\b\b\b\b\b 96% - train-jpg.tar\b\b\b\b\b\b\b\b\b\b\b\b\b\b\b\b\b\b\b\b                    \b\b\b\b\b\b\b\b\b\b\b\b\b\b\b\b\b\b\b\b 97% - train-jpg.tar\b\b\b\b\b\b\b\b\b\b\b\b\b\b\b\b\b\b\b\b                    \b\b\b\b\b\b\b\b\b\b\b\b\b\b\b\b\b\b\b\b 98% - train-jpg.tar\b\b\b\b\b\b\b\b\b\b\b\b\b\b\b\b\b\b\b\b                    \b\b\b\b\b\b\b\b\b\b\b\b\b\b\b\b\b\b\b\b 99% - train-jpg.tar\b\b\b\b\b\b\b\b\b\b\b\b\b\b\b\b\b\b\b\b                    \b\b\b\b\b\b\b\b\b\b\b\b\b\b\b\b\b\b\b\b100% 1\b\b\b\b\b\b      \b\b\b\b\b\bEverything is Ok\n",
            "100% 1\b\b\b\b\b\b      \b\b\b\b\b\b\n",
            "Archives: 3\n",
            "OK archives: 3\n",
            "Files: 3\n",
            "Size:       1671608320\n",
            "Compressed: 1580065717\n",
            "Kaggle-planet-test-tif.torrent\t test-tif-v2.tar.7z\n",
            "Kaggle-planet-train-tif.torrent  test_v2_file_mapping.csv\n",
            "__MACOSX\t\t\t test_v2_file_mapping.csv.zip\n",
            "sample_submission_v2.csv\t train-jpg.tar\n",
            "sample_submission_v2.csv.zip\t train-jpg.tar.7z\n",
            "test-jpg-additional.tar\t\t train-tif-v2.tar.7z\n",
            "test-jpg-additional.tar.7z\t train_v2.csv\n",
            "test-jpg.tar\t\t\t train_v2.csv.zip\n",
            "test-jpg.tar.7z\n"
          ],
          "name": "stdout"
        }
      ]
    },
    {
      "metadata": {
        "id": "_o_c8b8cLJsu",
        "colab_type": "code",
        "colab": {
          "base_uri": "https://localhost:8080/",
          "height": 67
        },
        "outputId": "994ca14a-a361-4f9c-d533-1d2f9bb2b7f6"
      },
      "cell_type": "code",
      "source": [
        "# !ls competitions/planet-understanding-the-amazon-from-space/*.tar\n",
        "!find competitions/planet-understanding-the-amazon-from-space/ -type f -name \"*.tar\""
      ],
      "execution_count": 71,
      "outputs": [
        {
          "output_type": "stream",
          "text": [
            "competitions/planet-understanding-the-amazon-from-space/test-jpg.tar\r\n",
            "competitions/planet-understanding-the-amazon-from-space/test-jpg-additional.tar\r\n",
            "competitions/planet-understanding-the-amazon-from-space/train-jpg.tar\r\n"
          ],
          "name": "stdout"
        }
      ]
    },
    {
      "metadata": {
        "id": "IRwKwwIICgTD",
        "colab_type": "code",
        "colab": {
          "base_uri": "https://localhost:8080/",
          "height": 183
        },
        "outputId": "760cda21-9cbc-4940-9d57-b2e8f80bc4de"
      },
      "cell_type": "code",
      "source": [
        "!find competitions/planet-understanding-the-amazon-from-space/ -type f -name \"*.tar\" -exec tar xvf {} -C competitions/planet-understanding-the-amazon-from-space/ \\;\n",
        "!ls competitions/planet-understanding-the-amazon-from-space"
      ],
      "execution_count": 73,
      "outputs": [
        {
          "output_type": "stream",
          "text": [
            "Kaggle-planet-test-tif.torrent\t test-jpg.tar.7z\r\n",
            "Kaggle-planet-train-tif.torrent  test-tif-v2.tar.7z\r\n",
            "__MACOSX\t\t\t test_v2_file_mapping.csv\r\n",
            "sample_submission_v2.csv\t test_v2_file_mapping.csv.zip\r\n",
            "sample_submission_v2.csv.zip\t train-jpg\r\n",
            "test-jpg\t\t\t train-jpg.tar\r\n",
            "test-jpg-additional\t\t train-jpg.tar.7z\r\n",
            "test-jpg-additional.tar\t\t train-tif-v2.tar.7z\r\n",
            "test-jpg-additional.tar.7z\t train_v2.csv\r\n",
            "test-jpg.tar\t\t\t train_v2.csv.zip\r\n"
          ],
          "name": "stdout"
        }
      ]
    },
    {
      "metadata": {
        "id": "79Z-DHQ6IDoA",
        "colab_type": "code",
        "colab": {}
      },
      "cell_type": "code",
      "source": [
        "!cp -rv competitions/planetunderstandingtheamazonfromspace/test-jpg-additional/. competitions/planetunderstandingtheamazonfromspace/test-jpg/"
      ],
      "execution_count": 0,
      "outputs": []
    },
    {
      "metadata": {
        "id": "ZzPQykInGw4Y",
        "colab_type": "code",
        "colab": {
          "base_uri": "https://localhost:8080/",
          "height": 33
        },
        "outputId": "1fd3d751-a06a-46cb-e276-b6182b52f172"
      },
      "cell_type": "code",
      "source": [
        "!ls competitions/planetunderstandingtheamazonfromspace/test-jpg"
      ],
      "execution_count": 117,
      "outputs": [
        {
          "output_type": "stream",
          "text": [
            "competitions/planetunderstandingtheamazonfromspace/test-jpg\r\n"
          ],
          "name": "stdout"
        }
      ]
    },
    {
      "metadata": {
        "id": "R_rsSZHfHF1R",
        "colab_type": "code",
        "colab": {
          "base_uri": "https://localhost:8080/",
          "height": 50
        },
        "outputId": "bb9ceafa-b5c3-443a-ac47-5fa1db1f76b8"
      },
      "cell_type": "code",
      "source": [
        "!find competitions/planetunderstandingtheamazonfromspace/ -iname 'test-jpg-additional'"
      ],
      "execution_count": 119,
      "outputs": [
        {
          "output_type": "stream",
          "text": [
            "competitions/planetunderstandingtheamazonfromspace/test-jpg/test-jpg-additional\n",
            "competitions/planetunderstandingtheamazonfromspace/test-jpg-additional\n"
          ],
          "name": "stdout"
        }
      ]
    },
    {
      "metadata": {
        "id": "zgU8Acl6F0EU",
        "colab_type": "code",
        "colab": {
          "base_uri": "https://localhost:8080/",
          "height": 33
        },
        "outputId": "26129293-c6f3-40db-f94b-439783f65b68"
      },
      "cell_type": "code",
      "source": [
        "!ls competitions/planetunderstandingtheamazonfromspace/test-jpg/ | wc -l "
      ],
      "execution_count": 124,
      "outputs": [
        {
          "output_type": "stream",
          "text": [
            "61191\r\n"
          ],
          "name": "stdout"
        }
      ]
    },
    {
      "metadata": {
        "id": "6N8s_dbQGG1m",
        "colab_type": "code",
        "colab": {
          "base_uri": "https://localhost:8080/",
          "height": 33
        },
        "outputId": "454f18ce-4476-4af8-b818-def2a9998769"
      },
      "cell_type": "code",
      "source": [
        "!ls competitions/planetunderstandingtheamazonfromspace/test-jpg-additional/ | wc -l "
      ],
      "execution_count": 112,
      "outputs": [
        {
          "output_type": "stream",
          "text": [
            "20522\r\n"
          ],
          "name": "stdout"
        }
      ]
    },
    {
      "metadata": {
        "id": "3XdjVKzUGGuV",
        "colab_type": "code",
        "colab": {}
      },
      "cell_type": "code",
      "source": [
        ""
      ],
      "execution_count": 0,
      "outputs": []
    },
    {
      "metadata": {
        "id": "1yaWGy0nGGnx",
        "colab_type": "code",
        "colab": {}
      },
      "cell_type": "code",
      "source": [
        ""
      ],
      "execution_count": 0,
      "outputs": []
    },
    {
      "metadata": {
        "id": "MvH20g4jPqE5",
        "colab_type": "text"
      },
      "cell_type": "markdown",
      "source": [
        "# Training"
      ]
    },
    {
      "metadata": {
        "id": "kA1-wWjuf40_",
        "colab_type": "code",
        "colab": {
          "base_uri": "https://localhost:8080/",
          "height": 200
        },
        "outputId": "ddd08e08-bd8f-4eac-d426-16a04377afb9"
      },
      "cell_type": "code",
      "source": [
        "# !touch __init__.py\n",
        "# !touch competitions/__init__.py\n",
        "# !touch competitions/planet-understanding-the-amazon-from-space/__init__.py\n",
        "!wget https://raw.githubusercontent.com/fastai/fastai/master/courses/dl1/planet.py\n",
        "# !mv competitions/planet-understanding-the-amazon-from-space/ competitions/planetunderstandingtheamazonfromspace/"
      ],
      "execution_count": 37,
      "outputs": [
        {
          "output_type": "stream",
          "text": [
            "--2018-06-18 11:11:37--  https://raw.githubusercontent.com/fastai/fastai/master/courses/dl1/planet.py\r\n",
            "Resolving raw.githubusercontent.com (raw.githubusercontent.com)... 151.101.52.133\n",
            "Connecting to raw.githubusercontent.com (raw.githubusercontent.com)|151.101.52.133|:443... connected.\n",
            "HTTP request sent, awaiting response... 200 OK\n",
            "Length: 1352 (1.3K) [text/plain]\n",
            "Saving to: ‘planet.py’\n",
            "\n",
            "planet.py           100%[===================>]   1.32K  --.-KB/s    in 0s      \n",
            "\n",
            "2018-06-18 11:11:37 (129 MB/s) - ‘planet.py’ saved [1352/1352]\n",
            "\n"
          ],
          "name": "stdout"
        }
      ]
    },
    {
      "metadata": {
        "id": "eRlTILlZljkY",
        "colab_type": "code",
        "colab": {
          "base_uri": "https://localhost:8080/",
          "height": 533
        },
        "outputId": "9277021b-70dc-47b4-c3d1-9db64ad54825"
      },
      "cell_type": "code",
      "source": [
        "!cat planet.py"
      ],
      "execution_count": 38,
      "outputs": [
        {
          "output_type": "stream",
          "text": [
            "from fastai.imports import *\r\n",
            "from fastai.transforms import *\r\n",
            "from fastai.dataset import *\r\n",
            "from sklearn.metrics import fbeta_score\r\n",
            "import warnings\r\n",
            "\r\n",
            "def f2(preds, targs, start=0.17, end=0.24, step=0.01):\r\n",
            "    with warnings.catch_warnings():\r\n",
            "        warnings.simplefilter(\"ignore\")\r\n",
            "        return max([fbeta_score(targs, (preds>th), 2, average='samples')\r\n",
            "                    for th in np.arange(start,end,step)])\r\n",
            "\r\n",
            "def opt_th(preds, targs, start=0.17, end=0.24, step=0.01):\r\n",
            "    ths = np.arange(start,end,step)\r\n",
            "    idx = np.argmax([fbeta_score(targs, (preds>th), 2, average='samples')\r\n",
            "                for th in ths])\r\n",
            "    return ths[idx]\r\n",
            "\r\n",
            "def get_data(path, tfms,bs,  n, cv_idx):\r\n",
            "    val_idxs = get_cv_idxs(n, cv_idx)\r\n",
            "    return ImageClassifierData.from_csv(path, 'train-jpg', f'{path}train_v2.csv', bs, tfms,\r\n",
            "                                 suffix='.jpg', val_idxs=val_idxs, test_name='test-jpg')\r\n",
            "\r\n",
            "def get_data_zoom(f_model, path, sz, bs, n, cv_idx):\r\n",
            "    tfms = tfms_from_model(f_model, sz, aug_tfms=transforms_top_down, max_zoom=1.05)\r\n",
            "    return get_data(path, tfms, bs, n, cv_idx)\r\n",
            "\r\n",
            "def get_data_pad(f_model, path, sz, bs, n, cv_idx):\r\n",
            "    transforms_pt = [RandomRotateZoom(9, 0.18, 0.1), RandomLighting(0.05, 0.1), RandomDihedral()]\r\n",
            "    tfms = tfms_from_model(f_model, sz, aug_tfms=transforms_pt, pad=sz//12)\r\n",
            "    return get_data(path, tfms, bs, n, cv_idx)\r\n"
          ],
          "name": "stdout"
        }
      ]
    },
    {
      "metadata": {
        "id": "DRFmUaWLhLir",
        "colab_type": "code",
        "colab": {}
      },
      "cell_type": "code",
      "source": [
        "!mv planet.py competitions/planetunderstandingtheamazonfromspace/"
      ],
      "execution_count": 0,
      "outputs": []
    },
    {
      "metadata": {
        "id": "0VELW_w7Pi0y",
        "colab_type": "code",
        "colab": {}
      },
      "cell_type": "code",
      "source": [
        "from fastai.conv_learner import *"
      ],
      "execution_count": 0,
      "outputs": []
    },
    {
      "metadata": {
        "id": "CFgZANDjP-Fb",
        "colab_type": "code",
        "colab": {
          "base_uri": "https://localhost:8080/",
          "height": 233
        },
        "outputId": "e987dad8-b4d5-4b32-9856-cd0ed03003b6"
      },
      "cell_type": "code",
      "source": [
        "!ls competitions/planetunderstandingtheamazonfromspace/\n",
        "PATH = 'competitions/planetunderstandingtheamazonfromspace/'"
      ],
      "execution_count": 128,
      "outputs": [
        {
          "output_type": "stream",
          "text": [
            "competitions\t\t\t test-jpg-additional.tar.7z\r\n",
            "__init__.py\t\t\t test-jpg.tar\r\n",
            "Kaggle-planet-test-tif.torrent\t test-jpg.tar.7z\r\n",
            "Kaggle-planet-train-tif.torrent  test-tif-v2.tar.7z\r\n",
            "__MACOSX\t\t\t test_v2_file_mapping.csv\r\n",
            "models\t\t\t\t test_v2_file_mapping.csv.zip\r\n",
            "planet.py\t\t\t tmp\r\n",
            "__pycache__\t\t\t train-jpg\r\n",
            "sample_submission_v2.csv\t train-jpg.tar\r\n",
            "sample_submission_v2.csv.zip\t train-jpg.tar.7z\r\n",
            "test-jpg\t\t\t train-tif-v2.tar.7z\r\n",
            "test-jpg-additional\t\t train_v2.csv\r\n",
            "test-jpg-additional.tar\t\t train_v2.csv.zip\r\n"
          ],
          "name": "stdout"
        }
      ]
    },
    {
      "metadata": {
        "id": "M25AIKUIP-CQ",
        "colab_type": "code",
        "colab": {}
      },
      "cell_type": "code",
      "source": [
        "from competitions.planetunderstandingtheamazonfromspace.planet import f2\n",
        "metris = [f2]\n",
        "f_model = resnet34"
      ],
      "execution_count": 0,
      "outputs": []
    },
    {
      "metadata": {
        "id": "cAUxg5rAP94g",
        "colab_type": "code",
        "colab": {
          "base_uri": "https://localhost:8080/",
          "height": 33
        },
        "outputId": "9970a06d-1a5a-4ee1-a9d9-312e5a9e5f85"
      },
      "cell_type": "code",
      "source": [
        "label_csv = f'{PATH}/train_v2.csv'\n",
        "n = len(list(open(label_csv))) - 1\n",
        "val_idxs = get_cv_idxs(n)\n",
        "len(val_idxs)"
      ],
      "execution_count": 130,
      "outputs": [
        {
          "output_type": "execute_result",
          "data": {
            "text/plain": [
              "8095"
            ]
          },
          "metadata": {
            "tags": []
          },
          "execution_count": 130
        }
      ]
    },
    {
      "metadata": {
        "id": "JdHzl_OfP91Q",
        "colab_type": "code",
        "colab": {}
      },
      "cell_type": "code",
      "source": [
        "def get_data(sz):\n",
        "    tfms = tfms_from_model(f_model, sz, aug_tfms=transforms_top_down, max_zoom=1.05)\n",
        "    return ImageClassifierData.from_csv(PATH, 'train-jpg', label_csv, tfms=tfms,\n",
        "                    suffix='.jpg', val_idxs=val_idxs, test_name='test-jpg')"
      ],
      "execution_count": 0,
      "outputs": []
    },
    {
      "metadata": {
        "id": "VDi_ohF2WGsH",
        "colab_type": "code",
        "colab": {}
      },
      "cell_type": "code",
      "source": [
        "sz=64\n",
        "data = get_data(sz)"
      ],
      "execution_count": 0,
      "outputs": []
    },
    {
      "metadata": {
        "id": "70H82WOyes7W",
        "colab_type": "code",
        "colab": {}
      },
      "cell_type": "code",
      "source": [
        "learn = ConvLearner.pretrained(f_model, data)"
      ],
      "execution_count": 0,
      "outputs": []
    },
    {
      "metadata": {
        "id": "JuhPtpysFP3v",
        "colab_type": "code",
        "colab": {
          "base_uri": "https://localhost:8080/",
          "height": 33
        },
        "outputId": "ab23c9bc-3bba-498d-e175-348f88f2eeed"
      },
      "cell_type": "code",
      "source": [
        "len(data.test_ds.fnames)"
      ],
      "execution_count": 134,
      "outputs": [
        {
          "output_type": "execute_result",
          "data": {
            "text/plain": [
              "61191"
            ]
          },
          "metadata": {
            "tags": []
          },
          "execution_count": 134
        }
      ]
    },
    {
      "metadata": {
        "id": "c94IHVBrVCWR",
        "colab_type": "code",
        "colab": {
          "base_uri": "https://localhost:8080/",
          "height": 615
        },
        "outputId": "998cc8ca-ae68-406e-d638-f3a458b72835"
      },
      "cell_type": "code",
      "source": [
        "lrf=learn.lr_find()\n",
        "learn.sched.plot()\n",
        "lr = 0.2\n",
        "learn.fit(lr, 3, cycle_len=1, cycle_mult=2)"
      ],
      "execution_count": 58,
      "outputs": [
        {
          "output_type": "display_data",
          "data": {
            "application/vnd.jupyter.widget-view+json": {
              "model_id": "d001e3ed2bec4275bafeebabe80694db",
              "version_minor": 0,
              "version_major": 2
            },
            "text/plain": [
              "HBox(children=(IntProgress(value=0, description='Epoch', max=1), HTML(value='')))"
            ]
          },
          "metadata": {
            "tags": []
          }
        },
        {
          "output_type": "stream",
          "text": [
            "epoch      trn_loss   val_loss   <lambda>   \n",
            "    0      0.214683   0.281249   0.929579  \n",
            "\n"
          ],
          "name": "stdout"
        },
        {
          "output_type": "display_data",
          "data": {
            "application/vnd.jupyter.widget-view+json": {
              "model_id": "865bc530ec634e04889244d1285ff5ba",
              "version_minor": 0,
              "version_major": 2
            },
            "text/plain": [
              "HBox(children=(IntProgress(value=0, description='Epoch', max=7), HTML(value='')))"
            ]
          },
          "metadata": {
            "tags": []
          }
        },
        {
          "output_type": "stream",
          "text": [
            "epoch      trn_loss   val_loss   <lambda>   \n",
            "    0      0.144344   0.132747   0.947971  \n",
            " 29%|██▉       | 146/506 [00:27<01:08,  5.24it/s, loss=0.146]"
          ],
          "name": "stdout"
        },
        {
          "output_type": "stream",
          "text": [
            "    1      0.13727    0.126988   0.950362  \n",
            " 60%|█████▉    | 302/506 [00:54<00:36,  5.52it/s, loss=0.134]"
          ],
          "name": "stdout"
        },
        {
          "output_type": "stream",
          "text": [
            "    2      0.136302   0.12501    0.950783  \n",
            " 78%|███████▊  | 396/506 [01:09<00:19,  5.72it/s, loss=0.137]"
          ],
          "name": "stdout"
        },
        {
          "output_type": "stream",
          "text": [
            "    3      0.138434   0.124753   0.950732  \n",
            " 88%|████████▊ | 446/506 [01:19<00:10,  5.59it/s, loss=0.131]"
          ],
          "name": "stdout"
        },
        {
          "output_type": "stream",
          "text": [
            "    4      0.132879   0.122006   0.951502  \n",
            " 94%|█████████▍| 476/506 [01:23<00:05,  5.70it/s, loss=0.131]"
          ],
          "name": "stdout"
        },
        {
          "output_type": "stream",
          "text": [
            "    5      0.128192   0.121793   0.95188   \n",
            " 99%|█████████▊| 499/506 [01:28<00:01,  5.63it/s, loss=0.128]"
          ],
          "name": "stdout"
        },
        {
          "output_type": "stream",
          "text": [
            "    6      0.128247   0.120122   0.952672  \n",
            "\n"
          ],
          "name": "stdout"
        },
        {
          "output_type": "execute_result",
          "data": {
            "text/plain": [
              "[array([0.12012]), 0.9526723117133289]"
            ]
          },
          "metadata": {
            "tags": []
          },
          "execution_count": 58
        },
        {
          "output_type": "display_data",
          "data": {
            "image/png": "[encoded data removed]",
            "text/plain": [
              "<matplotlib.figure.Figure at 0x7fc443f01470>"
            ]
          },
          "metadata": {
            "tags": []
          }
        }
      ]
    },
    {
      "metadata": {
        "id": "csb1gYn_VCTq",
        "colab_type": "code",
        "colab": {
          "base_uri": "https://localhost:8080/",
          "height": 200
        },
        "outputId": "325f84e7-36c7-46bd-839e-ae0cd78c39de"
      },
      "cell_type": "code",
      "source": [
        "lrs = np.array([lr/9, lr/3, lr])\n",
        "learn.unfreeze()\n",
        "learn.fit(lrs, 3, cycle_len=1, cycle_mult=2)"
      ],
      "execution_count": 60,
      "outputs": [
        {
          "output_type": "display_data",
          "data": {
            "application/vnd.jupyter.widget-view+json": {
              "model_id": "c5f73f6acc9e4a08b35073b5e576f421",
              "version_minor": 0,
              "version_major": 2
            },
            "text/plain": [
              "HBox(children=(IntProgress(value=0, description='Epoch', max=7), HTML(value='')))"
            ]
          },
          "metadata": {
            "tags": []
          }
        },
        {
          "output_type": "stream",
          "text": [
            "epoch      trn_loss   val_loss   <lambda>   \n",
            "    0      0.114474   0.103789   0.95858   \n",
            " 25%|██▌       | 128/506 [00:35<01:45,  3.58it/s, loss=0.119]"
          ],
          "name": "stdout"
        },
        {
          "output_type": "stream",
          "text": [
            "    1      0.109068   0.101348   0.959779  \n",
            " 51%|█████     | 257/506 [01:09<01:06,  3.72it/s, loss=0.106]"
          ],
          "name": "stdout"
        },
        {
          "output_type": "stream",
          "text": [
            "    2      0.106501   0.097264   0.961087  \n",
            " 66%|██████▌   | 332/506 [01:27<00:45,  3.80it/s, loss=0.108]"
          ],
          "name": "stdout"
        },
        {
          "output_type": "stream",
          "text": [
            "    3      0.107402   0.09934    0.960549  \n",
            " 74%|███████▍  | 375/506 [01:38<00:34,  3.80it/s, loss=0.102]"
          ],
          "name": "stdout"
        },
        {
          "output_type": "stream",
          "text": [
            "    4      0.099957   0.097286   0.961378  \n",
            " 79%|███████▉  | 399/506 [01:41<00:27,  3.92it/s, loss=0.0966]"
          ],
          "name": "stdout"
        },
        {
          "output_type": "stream",
          "text": [
            "    5      0.099094   0.094956   0.962359  \n",
            " 81%|████████  | 409/506 [01:46<00:25,  3.83it/s, loss=0.0944]"
          ],
          "name": "stdout"
        },
        {
          "output_type": "stream",
          "text": [
            "    6      0.094508   0.094344   0.962606  \n",
            "\n"
          ],
          "name": "stdout"
        },
        {
          "output_type": "execute_result",
          "data": {
            "text/plain": [
              "[array([0.09434]), 0.9626058216371824]"
            ]
          },
          "metadata": {
            "tags": []
          },
          "execution_count": 60
        }
      ]
    },
    {
      "metadata": {
        "id": "A8HOoni7VCRS",
        "colab_type": "code",
        "colab": {
          "base_uri": "https://localhost:8080/",
          "height": 347
        },
        "outputId": "ef144b4d-71c3-49e5-97f3-6ca7cfe58b30"
      },
      "cell_type": "code",
      "source": [
        "learn.save(f'{sz}')\n",
        "learn.sched.plot_loss()"
      ],
      "execution_count": 63,
      "outputs": [
        {
          "output_type": "display_data",
          "data": {
            "image/png": "[encoded data removed]",
            "text/plain": [
              "<matplotlib.figure.Figure at 0x7fc49fa06e10>"
            ]
          },
          "metadata": {
            "tags": []
          }
        }
      ]
    },
    {
      "metadata": {
        "id": "NiFv4Eo8VCOB",
        "colab_type": "code",
        "colab": {}
      },
      "cell_type": "code",
      "source": [
        ""
      ],
      "execution_count": 0,
      "outputs": []
    },
    {
      "metadata": {
        "id": "N7H2QO71VCMF",
        "colab_type": "code",
        "colab": {}
      },
      "cell_type": "code",
      "source": [
        "sz = 128"
      ],
      "execution_count": 0,
      "outputs": []
    },
    {
      "metadata": {
        "id": "q8Tez3V1VCJw",
        "colab_type": "code",
        "colab": {
          "base_uri": "https://localhost:8080/",
          "height": 200
        },
        "outputId": "11561b66-bf2b-4542-ecc6-fa4b44430414"
      },
      "cell_type": "code",
      "source": [
        "learn.set_data(get_data(sz))\n",
        "learn.freeze()\n",
        "learn.fit(lr, 3, cycle_len=1, cycle_mult=2)"
      ],
      "execution_count": 65,
      "outputs": [
        {
          "output_type": "display_data",
          "data": {
            "application/vnd.jupyter.widget-view+json": {
              "model_id": "38ecb287bf0048af8e328d7cbf884e70",
              "version_minor": 0,
              "version_major": 2
            },
            "text/plain": [
              "HBox(children=(IntProgress(value=0, description='Epoch', max=7), HTML(value='')))"
            ]
          },
          "metadata": {
            "tags": []
          }
        },
        {
          "output_type": "stream",
          "text": [
            "epoch      trn_loss   val_loss   <lambda>   \n",
            "    0      0.097465   0.095008   0.963049  \n",
            " 25%|██▍       | 125/506 [00:30<01:33,  4.08it/s, loss=0.0959]"
          ],
          "name": "stdout"
        },
        {
          "output_type": "stream",
          "text": [
            "    1      0.096366   0.093918   0.963456  \n",
            " 49%|████▉     | 249/506 [01:00<01:02,  4.13it/s, loss=0.0959]"
          ],
          "name": "stdout"
        },
        {
          "output_type": "stream",
          "text": [
            "    2      0.092882   0.09403    0.963376  \n",
            " 64%|██████▎   | 322/506 [01:17<00:44,  4.18it/s, loss=0.0944]"
          ],
          "name": "stdout"
        },
        {
          "output_type": "stream",
          "text": [
            "    3      0.094091   0.094081   0.963376  \n",
            " 72%|███████▏  | 364/506 [01:27<00:34,  4.14it/s, loss=0.0927]"
          ],
          "name": "stdout"
        },
        {
          "output_type": "stream",
          "text": [
            "    4      0.094305   0.09297    0.963681  \n",
            " 77%|███████▋  | 389/506 [01:32<00:27,  4.19it/s, loss=0.0934]"
          ],
          "name": "stdout"
        },
        {
          "output_type": "stream",
          "text": [
            "    5      0.092288   0.09271    0.963638  \n",
            " 80%|███████▉  | 404/506 [01:36<00:24,  4.21it/s, loss=0.0929]"
          ],
          "name": "stdout"
        },
        {
          "output_type": "stream",
          "text": [
            "    6      0.093814   0.092245   0.963834  \n",
            "\n"
          ],
          "name": "stdout"
        },
        {
          "output_type": "execute_result",
          "data": {
            "text/plain": [
              "[array([0.09225]), 0.9638338852473584]"
            ]
          },
          "metadata": {
            "tags": []
          },
          "execution_count": 65
        }
      ]
    },
    {
      "metadata": {
        "id": "P9K79pgaVCHH",
        "colab_type": "code",
        "colab": {
          "base_uri": "https://localhost:8080/",
          "height": 200
        },
        "outputId": "96f14936-4491-42dc-dae3-bf2de683a262"
      },
      "cell_type": "code",
      "source": [
        "learn.unfreeze()\n",
        "learn.fit(lrs, 3, cycle_len=1, cycle_mult=2)"
      ],
      "execution_count": 68,
      "outputs": [
        {
          "output_type": "display_data",
          "data": {
            "application/vnd.jupyter.widget-view+json": {
              "model_id": "6169bd7f4eca406980afafc6d0b176d6",
              "version_minor": 0,
              "version_major": 2
            },
            "text/plain": [
              "HBox(children=(IntProgress(value=0, description='Epoch', max=7), HTML(value='')))"
            ]
          },
          "metadata": {
            "tags": []
          }
        },
        {
          "output_type": "stream",
          "text": [
            "epoch      trn_loss   val_loss   <lambda>   \n",
            "    0      0.09311    0.088014   0.965454  \n",
            " 25%|██▍       | 124/506 [01:10<03:37,  1.76it/s, loss=0.0953]"
          ],
          "name": "stdout"
        },
        {
          "output_type": "stream",
          "text": [
            "    1      0.094282   0.088575   0.965425  \n",
            " 49%|████▉     | 249/506 [02:19<02:23,  1.79it/s, loss=0.0897]"
          ],
          "name": "stdout"
        },
        {
          "output_type": "stream",
          "text": [
            "    2      0.088037   0.086475   0.965861  \n",
            " 64%|██████▎   | 322/506 [02:59<01:42,  1.80it/s, loss=0.0958]"
          ],
          "name": "stdout"
        },
        {
          "output_type": "stream",
          "text": [
            "    3      0.090548   0.088511   0.965454  \n",
            " 72%|███████▏  | 364/506 [03:22<01:19,  1.79it/s, loss=0.0892]"
          ],
          "name": "stdout"
        },
        {
          "output_type": "stream",
          "text": [
            "    4      0.085513   0.086632   0.966319  \n",
            " 77%|███████▋  | 389/506 [03:35<01:04,  1.81it/s, loss=0.0862]"
          ],
          "name": "stdout"
        },
        {
          "output_type": "stream",
          "text": [
            "    5      0.082186   0.084984   0.966791  \n",
            " 80%|███████▉  | 404/506 [03:44<00:56,  1.80it/s, loss=0.0834]"
          ],
          "name": "stdout"
        },
        {
          "output_type": "stream",
          "text": [
            "    6      0.080008   0.084501   0.967082  \n",
            "\n"
          ],
          "name": "stdout"
        },
        {
          "output_type": "execute_result",
          "data": {
            "text/plain": [
              "[array([0.0845]), 0.9670820765100636]"
            ]
          },
          "metadata": {
            "tags": []
          },
          "execution_count": 68
        }
      ]
    },
    {
      "metadata": {
        "id": "aioQEtuyVCEX",
        "colab_type": "code",
        "colab": {
          "base_uri": "https://localhost:8080/",
          "height": 347
        },
        "outputId": "ef8612f4-5d86-48fb-d4fc-8ac56c7a4c18"
      },
      "cell_type": "code",
      "source": [
        "learn.save(f'{sz}')\n",
        "learn.sched.plot_loss()"
      ],
      "execution_count": 69,
      "outputs": [
        {
          "output_type": "display_data",
          "data": {
            "image/png": "[encoded data removed]",
            "text/plain": [
              "<matplotlib.figure.Figure at 0x7fc444017f28>"
            ]
          },
          "metadata": {
            "tags": []
          }
        }
      ]
    },
    {
      "metadata": {
        "id": "3pEiMBj_P9pb",
        "colab_type": "code",
        "colab": {}
      },
      "cell_type": "code",
      "source": [
        ""
      ],
      "execution_count": 0,
      "outputs": []
    },
    {
      "metadata": {
        "id": "7FoJls5oP9nE",
        "colab_type": "code",
        "colab": {}
      },
      "cell_type": "code",
      "source": [
        "sz = 256"
      ],
      "execution_count": 0,
      "outputs": []
    },
    {
      "metadata": {
        "id": "j7blUuFRP9kU",
        "colab_type": "code",
        "colab": {}
      },
      "cell_type": "code",
      "source": [
        "learn.set_data(get_data(sz))\n",
        "learn.freeze()\n",
        "learn.fit(lr, 3, cycle_len=1, cycle_mult=2)"
      ],
      "execution_count": 0,
      "outputs": []
    },
    {
      "metadata": {
        "id": "tKMIk8VEnfFr",
        "colab_type": "code",
        "colab": {}
      },
      "cell_type": "code",
      "source": [
        "learn.unfreeze()\n",
        "learn.fit(lrs, 1, cycle_len=1, cycle_mult=1)\n",
        "learn.save(f'{sz}')\n",
        "learn.load(f'{sz}')"
      ],
      "execution_count": 0,
      "outputs": []
    },
    {
      "metadata": {
        "id": "05oiCMqKn0Kp",
        "colab_type": "text"
      },
      "cell_type": "markdown",
      "source": [
        "# Prediction"
      ]
    },
    {
      "metadata": {
        "id": "-aqzo4d1n2AR",
        "colab_type": "code",
        "colab": {
          "base_uri": "https://localhost:8080/",
          "height": 17
        },
        "outputId": "f7addfa1-b9bd-46ec-d14d-ca8ba0deb4e4"
      },
      "cell_type": "code",
      "source": [
        "multi_preds, y = learn.TTA(is_test=True)\n",
        "preds = np.mean(multi_preds, 0)"
      ],
      "execution_count": 139,
      "outputs": [
        {
          "output_type": "stream",
          "text": [
            ""
          ],
          "name": "stdout"
        }
      ]
    },
    {
      "metadata": {
        "id": "jQwdqquqsmPp",
        "colab_type": "code",
        "colab": {
          "base_uri": "https://localhost:8080/",
          "height": 67
        },
        "outputId": "64826921-7334-4cbb-f86e-72dafcd969bc"
      },
      "cell_type": "code",
      "source": [
        "print(multi_preds.shape)\n",
        "print(y.shape)\n",
        "print(preds.shape)"
      ],
      "execution_count": 140,
      "outputs": [
        {
          "output_type": "stream",
          "text": [
            "(5, 61191, 17)\n",
            "(61191, 1)\n",
            "(61191, 17)\n"
          ],
          "name": "stdout"
        }
      ]
    },
    {
      "metadata": {
        "id": "ejvoqJATn19Q",
        "colab_type": "code",
        "colab": {
          "base_uri": "https://localhost:8080/",
          "height": 33
        },
        "outputId": "ab04aa58-b5ab-454c-8662-1b4e63971e33"
      },
      "cell_type": "code",
      "source": [
        "f2(preds,y)"
      ],
      "execution_count": 81,
      "outputs": [
        {
          "output_type": "execute_result",
          "data": {
            "text/plain": [
              "0.9305429916028396"
            ]
          },
          "metadata": {
            "tags": []
          },
          "execution_count": 81
        }
      ]
    },
    {
      "metadata": {
        "id": "XFbtj09Fn17E",
        "colab_type": "code",
        "colab": {
          "base_uri": "https://localhost:8080/",
          "height": 50
        },
        "outputId": "0160e462-76d2-4eba-e42e-1064e30a6828"
      },
      "cell_type": "code",
      "source": [
        "preds[0]"
      ],
      "execution_count": 85,
      "outputs": [
        {
          "output_type": "execute_result",
          "data": {
            "text/plain": [
              "array([0.00246, 0.     , 0.00003, 0.00006, 0.00006, 0.00104, 0.00002, 0.00001, 0.00113, 0.00016, 0.00015,\n",
              "       0.99792, 0.99999, 0.00074, 0.00006, 0.00002, 0.00288], dtype=float32)"
            ]
          },
          "metadata": {
            "tags": []
          },
          "execution_count": 85
        }
      ]
    },
    {
      "metadata": {
        "id": "sf0BEPMsn14m",
        "colab_type": "code",
        "colab": {
          "base_uri": "https://localhost:8080/",
          "height": 33
        },
        "outputId": "915180c8-2dfe-49e7-e6df-2a59e8d995d8"
      },
      "cell_type": "code",
      "source": [
        "len(data.test_ds.fnames)"
      ],
      "execution_count": 125,
      "outputs": [
        {
          "output_type": "execute_result",
          "data": {
            "text/plain": [
              "40669"
            ]
          },
          "metadata": {
            "tags": []
          },
          "execution_count": 125
        }
      ]
    },
    {
      "metadata": {
        "id": "bdAF7oE7D2B-",
        "colab_type": "code",
        "colab": {
          "base_uri": "https://localhost:8080/",
          "height": 33
        },
        "outputId": "70de1cb5-e7f3-48e7-fb45-667be00f440b"
      },
      "cell_type": "code",
      "source": [
        "!ls competitions/planetunderstandingtheamazonfromspace/test-jpg/ | wc -l "
      ],
      "execution_count": 123,
      "outputs": [
        {
          "output_type": "stream",
          "text": [
            "61191\r\n"
          ],
          "name": "stdout"
        }
      ]
    },
    {
      "metadata": {
        "id": "9mrzjUE5D1cO",
        "colab_type": "code",
        "colab": {
          "base_uri": "https://localhost:8080/",
          "height": 33
        },
        "outputId": "86a8aeb2-9bc5-4c71-8843-069fcb8992f7"
      },
      "cell_type": "code",
      "source": [
        "!ls competitions/planetunderstandingtheamazonfromspace/test-jpg-additional/ | wc -l "
      ],
      "execution_count": 92,
      "outputs": [
        {
          "output_type": "stream",
          "text": [
            "20522\r\n"
          ],
          "name": "stdout"
        }
      ]
    },
    {
      "metadata": {
        "id": "WeapfCUUUv0a",
        "colab_type": "text"
      },
      "cell_type": "markdown",
      "source": [
        "# Submission"
      ]
    },
    {
      "metadata": {
        "id": "OKHBzh687t3p",
        "colab_type": "code",
        "colab": {}
      },
      "cell_type": "code",
      "source": [
        "classes = np.array(data.classes, dtype=str)\n",
        "res = [\" \".join(classes[np.where(pp > 0.5)]) for pp in preds] \n",
        "test_fnames = [os.path.basename(f).split(\".\")[0] for f in data.test_ds.fnames]\n",
        "test_df = pd.DataFrame(res, index=test_fnames, columns=['tags'])\n",
        "test_df.to_csv('planet-amazon-from-the-space1.csv', index_label='image_name')"
      ],
      "execution_count": 0,
      "outputs": []
    },
    {
      "metadata": {
        "id": "Dr0ZHSkoXImN",
        "colab_type": "code",
        "colab": {
          "base_uri": "https://localhost:8080/",
          "height": 183
        },
        "outputId": "21606341-4aa4-4ce3-af48-91dfcb26002d"
      },
      "cell_type": "code",
      "source": [
        "!head planet-amazon-from-the-space1.csv"
      ],
      "execution_count": 142,
      "outputs": [
        {
          "output_type": "stream",
          "text": [
            "image_name,tags\r\n",
            "test_1304,partly_cloudy primary\r\n",
            "file_6647,clear primary\r\n",
            "test_13666,clear primary road water\r\n",
            "test_37177,clear primary\r\n",
            "test_23332,agriculture clear primary\r\n",
            "test_4856,partly_cloudy primary\r\n",
            "test_29209,clear primary\r\n",
            "test_9944,clear primary\r\n",
            "test_8686,agriculture clear habitation primary road\r\n"
          ],
          "name": "stdout"
        }
      ]
    },
    {
      "metadata": {
        "id": "SEVp0DQoYLFf",
        "colab_type": "code",
        "colab": {
          "base_uri": "https://localhost:8080/",
          "height": 33
        },
        "outputId": "38c47155-6787-4fd2-fada-95d2e6451e65"
      },
      "cell_type": "code",
      "source": [
        "!kaggle competitions submit -c planet-understanding-the-amazon-from-space -f planet-amazon-from-the-space1.csv -m \"First Submission\""
      ],
      "execution_count": 143,
      "outputs": [
        {
          "output_type": "stream",
          "text": [
            "Successfully submitted to Planet: Understanding the Amazon from Space"
          ],
          "name": "stdout"
        }
      ]
    },
    {
      "metadata": {
        "id": "ZrwF5cOVPfja",
        "colab_type": "code",
        "colab": {}
      },
      "cell_type": "code",
      "source": [
        ""
      ],
      "execution_count": 0,
      "outputs": []
    }
  ]
}